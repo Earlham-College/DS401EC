{
 "cells": [
  {
   "cell_type": "markdown",
   "id": "aa173655",
   "metadata": {},
   "source": [
    "# Data Science\n",
    "#### By: Javier Orduz\n",
    "[license-badge]: https://img.shields.io/badge/License-CC-orange\n",
    "[license]: https://creativecommons.org/licenses/by-nc-sa/3.0/deed.en\n",
    "\n",
    "[![CC License][license-badge]][license]  [![DS](https://img.shields.io/badge/downloads-DS-green)](https://github.com/Earlham-College/DS_Fall_2022)  [![Github](https://img.shields.io/badge/jaorduz-repos-blue)](https://github.com/jaorduz/)  ![Follow @jaorduc](https://img.shields.io/twitter/follow/jaorduc?label=follow&logo=twitter&logoColor=lkj&style=plastic)\n"
   ]
  },
  {
   "cell_type": "code",
   "execution_count": null,
   "id": "3c0b3b90",
   "metadata": {},
   "outputs": [],
   "source": [
    "import matplotlib.pyplot as plt\n",
    "import pandas as pd\n",
    "import pylab as pl\n",
    "import numpy as np\n",
    "%matplotlib inline"
   ]
  },
  {
   "cell_type": "markdown",
   "id": "d02bb346",
   "metadata": {},
   "source": [
    "# Exercises"
   ]
  },
  {
   "cell_type": "markdown",
   "id": "a8d4a2c8",
   "metadata": {},
   "source": [
    "1. Read `yelp.csv` into a DataFrame.\n",
    "1. Evaluate the model by splitting it into training and testing sets and computing the RMSE. Does the RMSE make intuitive sense to you?\n",
    "6. Try removing some of the features and see if the Root-Mean-Squared Error (RMSE) improves.\n",
    "7. **Bonus:** Investigate of some new features you could create from the existing data that might be predictive of the response. (This is called \"feature engineering\".) Figure out how to create those features in Pandas, add them to your model, and see if the RMSE improves.\n",
    "1. Submmit your report in Moodle. Template https://www.overleaf.com/read/xqcnnnrsspcp\n",
    "\n",
    "<!---\n",
    "8. **Bonus:** Compare your best RMSE on testing set with the RMSE for the \"null model\", which is the model that ignores all features and simply predicts the mean rating in the training set for all observations in the testing set.\n",
    "9. **Bonus:** Instead of treating this as a regression problem, treat it as a classification problem and see what testing accuracy you can achieve with KNN.\n",
    "10. **Bonus:** Figure out how to use linear regression for classification, and compare its classification accuracy to KNN.\n",
    "1. Submmit your report in Moodle. Template https://www.overleaf.com/read/xqcnnnrsspcp\n",
    "--->"
   ]
  },
  {
   "cell_type": "markdown",
   "id": "0fe0089c",
   "metadata": {},
   "source": [
    "## Versions"
   ]
  },
  {
   "cell_type": "code",
   "execution_count": null,
   "id": "562a00ab",
   "metadata": {},
   "outputs": [],
   "source": [
    "from platform import python_version\n",
    "print(\"python version: \", python_version())\n",
    "!pip3 freeze | grep qiskit"
   ]
  },
  {
   "cell_type": "markdown",
   "id": "64acdd24",
   "metadata": {},
   "source": [
    "# References"
   ]
  },
  {
   "cell_type": "markdown",
   "id": "012011b9",
   "metadata": {},
   "source": [
    "[0] data https://tinyurl.com/2m3vr2xp\n",
    "\n",
    "[1] numpy https://numpy.org/\n",
    "\n",
    "[2] scipy https://docs.scipy.org/\n",
    "\n",
    "[3] matplotlib https://matplotlib.org/\n",
    "\n",
    "[4] matplotlib.cm https://matplotlib.org/stable/api/cm_api.html\n",
    "\n",
    "[5] matplotlib.pyplot https://matplotlib.org/stable/api/pyplot_summary.html\n",
    "\n",
    "[6] pandas https://pandas.pydata.org/docs/\n",
    "\n",
    "[7] seaborn https://seaborn.pydata.org/\n"
   ]
  },
  {
   "cell_type": "code",
   "execution_count": null,
   "id": "4e80353e",
   "metadata": {},
   "outputs": [],
   "source": []
  }
 ],
 "metadata": {
  "kernelspec": {
   "display_name": "Python 3",
   "language": "python",
   "name": "python3"
  },
  "language_info": {
   "codemirror_mode": {
    "name": "ipython",
    "version": 3
   },
   "file_extension": ".py",
   "mimetype": "text/x-python",
   "name": "python",
   "nbconvert_exporter": "python",
   "pygments_lexer": "ipython3",
   "version": "3.7.4"
  },
  "vscode": {
   "interpreter": {
    "hash": "31f2aee4e71d21fbe5cf8b01ff0e069b9275f58929596ceb00d14d90e3e16cd6"
   }
  }
 },
 "nbformat": 4,
 "nbformat_minor": 5
}
