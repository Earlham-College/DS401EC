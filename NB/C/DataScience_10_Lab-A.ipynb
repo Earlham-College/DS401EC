{
 "cells": [
  {
   "cell_type": "markdown",
   "id": "8b099513",
   "metadata": {},
   "source": [
    "# Data Science\n",
    "#### By: Javier Orduz\n",
    "[license-badge]: https://img.shields.io/badge/License-CC-orange\n",
    "[license]: https://creativecommons.org/licenses/by-nc-sa/3.0/deed.en\n",
    "[![CC License][license-badge]][license]\n",
    "[![DS](https://img.shields.io/badge/downloads-DS-green)](https://github.com/Earlham-College/DS_Fall_2022)\n",
    "[![Github](https://img.shields.io/badge/jaorduz-repos-blue)](https://github.com/jaorduz/)\n",
    "[![Github](https://img.shields.io/badge/jaorduc-repos-blue)](https://github.com/jaorduc/)\n",
    "![Follow @jaorduc](https://img.shields.io/twitter/follow/jaorduc?label=follow&logo=twitter&logoColor=lkj&style=plastic)\n"
   ]
  },
  {
   "cell_type": "code",
   "execution_count": null,
   "id": "4789ded2",
   "metadata": {},
   "outputs": [],
   "source": [
    "import matplotlib.pyplot as plt\n",
    "import pandas as pd\n",
    "import pylab as pl\n",
    "import numpy as np\n",
    "%matplotlib inline"
   ]
  },
  {
   "cell_type": "markdown",
   "id": "d2f5945e",
   "metadata": {},
   "source": [
    "### Part I: Simpler Linear Regression. Knowing data"
   ]
  },
  {
   "cell_type": "markdown",
   "id": "da7dafec",
   "metadata": {},
   "source": [
    "Data source [0]."
   ]
  },
  {
   "cell_type": "markdown",
   "id": "cbabe348",
   "metadata": {},
   "source": [
    "<div class=\"alert  alert-block alert-info\" style=\"margin-top: 1px\">\n",
    "    <ol>\n",
    "        <li><a href=\"#unData\">Import modules</a></li>\n",
    "         <!-- <ol>\n",
    "             <li><a href=\"#reData\">Reading</a></li>\n",
    "         </ol> -->\n",
    "        <li><a href=\"#daExploration\">Read CSV</a></li>\n",
    "        <li><a href=\"#showData\">Plotting</a></li>\n",
    "        <li><a href=\"#exerci\">Exercises</a></li>\n",
    "    </ol>\n",
    "</div>\n",
    "<br>\n",
    "<hr>"
   ]
  },
  {
   "cell_type": "markdown",
   "id": "4ff5f409",
   "metadata": {},
   "source": [
    "\n",
    "<h2 id=\"unData\">Data</h2>\n",
    "\n",
    "### `titanic3.csv`:\n",
    "\n",
    "This dataset contains a model-specific fuel consumption ratings and estimated carbon dioxide \n",
    "emissions for new light-duty vehicles for retail sale in Canada.\n",
    "\n",
    "Some **features** are\n",
    "\n",
    "- **srvived** e.g. 2014"
   ]
  },
  {
   "cell_type": "code",
   "execution_count": null,
   "id": "b246c7c3",
   "metadata": {},
   "outputs": [],
   "source": [
    "df = pd.read_csv(\"../data/titanic3.csv\")"
   ]
  },
  {
   "cell_type": "code",
   "execution_count": null,
   "id": "fff03e4e",
   "metadata": {},
   "outputs": [],
   "source": [
    "df.dtypes"
   ]
  },
  {
   "cell_type": "code",
   "execution_count": null,
   "id": "c3964f86",
   "metadata": {},
   "outputs": [],
   "source": [
    "print(\"Number of rows =\", df.shape[0], \"\\nNumber of features (columns) =\",df.shape[1])"
   ]
  },
  {
   "cell_type": "code",
   "execution_count": null,
   "id": "19af6c11",
   "metadata": {},
   "outputs": [],
   "source": [
    "df.columns"
   ]
  },
  {
   "cell_type": "markdown",
   "id": "4aaa9af1",
   "metadata": {},
   "source": [
    "We select some features"
   ]
  },
  {
   "cell_type": "code",
   "execution_count": null,
   "id": "f4722c3e",
   "metadata": {},
   "outputs": [],
   "source": [
    "Seldf = df[['pclass','survived','sibsp','parch']]"
   ]
  },
  {
   "cell_type": "code",
   "execution_count": null,
   "id": "3f99de67",
   "metadata": {},
   "outputs": [],
   "source": [
    "Seldf.head(5)"
   ]
  },
  {
   "cell_type": "code",
   "execution_count": null,
   "id": "5591731a",
   "metadata": {},
   "outputs": [],
   "source": [
    "Seldf.dtypes"
   ]
  },
  {
   "cell_type": "markdown",
   "id": "9f96c1c2",
   "metadata": {},
   "source": [
    "# Plotting"
   ]
  },
  {
   "cell_type": "markdown",
   "id": "bfc4ba2b",
   "metadata": {},
   "source": [
    "## Histograms. You should modify this part"
   ]
  },
  {
   "cell_type": "code",
   "execution_count": null,
   "id": "1c1c1809",
   "metadata": {},
   "outputs": [],
   "source": [
    "SeldfHistogram = Seldf[['pclass','survived','sibsp','parch']]"
   ]
  },
  {
   "cell_type": "code",
   "execution_count": null,
   "id": "3031fca8",
   "metadata": {},
   "outputs": [],
   "source": [
    "SeldfHistogram.hist(facecolor='g', alpha=0.75)\n",
    "plt.grid(True)\n",
    "plt.show()"
   ]
  },
  {
   "cell_type": "markdown",
   "id": "e8937614",
   "metadata": {},
   "source": [
    "## Scatter plot\n",
    "You should show your scatter plot."
   ]
  },
  {
   "cell_type": "markdown",
   "id": "d61dcf95",
   "metadata": {},
   "source": [
    "# Exercises"
   ]
  },
  {
   "cell_type": "markdown",
   "id": "fdbc38f3",
   "metadata": {},
   "source": [
    "1. Plot **Atribute A** vs **atribute B**, to see how linear is their relationship.\n",
    "1. Use ```matplotlib``` documentation, and implement different parameters to get a beatiful plot. Different to previous NB\n",
    "1. Create the scatter plot\n",
    "1. Implement a new different Library, such as ```seaborn```\n",
    "1. Submmit your report in Moodle. Template https://www.overleaf.com/read/xqcnnnrsspcp"
   ]
  },
  {
   "cell_type": "markdown",
   "id": "6ac45ba8",
   "metadata": {},
   "source": [
    "## Versions"
   ]
  },
  {
   "cell_type": "code",
   "execution_count": null,
   "id": "137c2ac7",
   "metadata": {},
   "outputs": [],
   "source": [
    "from platform import python_version\n",
    "print(\"python version: \", python_version())\n",
    "!pip3 freeze | grep qiskit"
   ]
  },
  {
   "cell_type": "markdown",
   "id": "6826c577",
   "metadata": {},
   "source": [
    "# References"
   ]
  },
  {
   "cell_type": "markdown",
   "id": "dba72bc3",
   "metadata": {},
   "source": [
    "[0] data https://tinyurl.com/2m3vr2xp\n",
    "\n",
    "[1] numpy https://numpy.org/\n",
    "\n",
    "[2] scipy https://docs.scipy.org/\n",
    "\n",
    "[3] matplotlib https://matplotlib.org/\n",
    "\n",
    "[4] matplotlib.cm https://matplotlib.org/stable/api/cm_api.html\n",
    "\n",
    "[5] matplotlib.pyplot https://matplotlib.org/stable/api/pyplot_summary.html\n",
    "\n",
    "[6] pandas https://pandas.pydata.org/docs/\n",
    "\n",
    "[7] seaborn https://seaborn.pydata.org/\n"
   ]
  },
  {
   "cell_type": "code",
   "execution_count": null,
   "id": "2e8078a7",
   "metadata": {},
   "outputs": [],
   "source": []
  }
 ],
 "metadata": {
  "kernelspec": {
   "display_name": "Python 3",
   "language": "python",
   "name": "python3"
  },
  "language_info": {
   "codemirror_mode": {
    "name": "ipython",
    "version": 3
   },
   "file_extension": ".py",
   "mimetype": "text/x-python",
   "name": "python",
   "nbconvert_exporter": "python",
   "pygments_lexer": "ipython3",
   "version": "3.7.4"
  },
  "vscode": {
   "interpreter": {
    "hash": "31f2aee4e71d21fbe5cf8b01ff0e069b9275f58929596ceb00d14d90e3e16cd6"
   }
  }
 },
 "nbformat": 4,
 "nbformat_minor": 5
}
