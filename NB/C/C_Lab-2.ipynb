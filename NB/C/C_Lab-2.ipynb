{
 "cells": [
  {
   "cell_type": "markdown",
   "id": "cfb3dc67",
   "metadata": {},
   "source": [
    "# Statistics for Data Science [DS401]\n",
    "## Evaluate a service\n",
    "#### By: Javier Orduz\n",
    "\n",
    "[licenseBDG]: https://img.shields.io/badge/License-CC-orange?style=plastic\n",
    "[license]: https://creativecommons.org/licenses/by-nc-sa/3.0/deed.en\n",
    "\n",
    "[mywebsiteBDG]:https://img.shields.io/badge/website-jaorduz.github.io-0abeeb?style=plastic\n",
    "[mywebsite]: https://jaorduz.github.io/\n",
    "\n",
    "[mygithubBDG-jaorduz]: https://img.shields.io/badge/jaorduz-repos-blue?logo=github&label=jaorduz&style=plastic\n",
    "[mygithub-jaorduz]: https://github.com/jaorduz/\n",
    "\n",
    "[mygithubBDG-jaorduc]: https://img.shields.io/badge/jaorduc-repos-blue?logo=github&label=jaorduc&style=plastic \n",
    "[mygithub-jaorduc]: https://github.com/jaorduc/\n",
    "\n",
    "[myXprofileBDG]: https://img.shields.io/static/v1?label=Follow&message=jaorduc&color=2ea44f&style=plastic&logo=X&logoColor=black\n",
    "[myXprofile]:https://twitter.com/jaorduc\n",
    "\n",
    "\n",
    "[![website - jaorduz.github.io][mywebsiteBDG]][mywebsite]\n",
    "[![Github][mygithubBDG-jaorduz]][mygithub-jaorduz]\n",
    "[![Github][mygithubBDG-jaorduc]][mygithub-jaorduc]\n",
    "[![Follow @jaorduc][myXprofileBDG]][myXprofile]\n",
    "[![CC License][licenseBDG]][license]"
   ]
  },
  {
   "cell_type": "markdown",
   "id": "61263120",
   "metadata": {},
   "source": [
    "<h1> Contents</h1>\n",
    "<div class=\"alert  alert-block alert-info\" style=\"margin-top: 1px\">\n",
    "    <ol>\n",
    "        <li><a href=\"#unData\">Import modules, pachages, and libraries</a></li>\n",
    "         <!-- <ol>\n",
    "             <li><a href=\"#reData\">Reading</a></li>\n",
    "         </ol> -->\n",
    "        <li><a href=\"#daExploration\">Read CSV</a></li>\n",
    "        <li><a href=\"#showData\">Evaluation</a></li>\n",
    "        <li><a href=\"#exerci\">Exercises</a></li>\n",
    "    </ol>\n",
    "</div>\n",
    "<br>\n",
    "<hr>"
   ]
  },
  {
   "cell_type": "markdown",
   "id": "95ac78e2-570a-4f0d-92ff-28541d3d776d",
   "metadata": {},
   "source": [
    "# Import modules, pachages, and libraries"
   ]
  },
  {
   "cell_type": "code",
   "execution_count": 1,
   "id": "e9402dd1",
   "metadata": {},
   "outputs": [],
   "source": [
    "import matplotlib.pyplot as plt\n",
    "import pandas as pd\n",
    "import pylab as pl\n",
    "import numpy as np\n",
    "%matplotlib inline"
   ]
  },
  {
   "cell_type": "markdown",
   "id": "eaec2824-7f02-4d23-963f-c56bc8b1598e",
   "metadata": {},
   "source": [
    "# Read CSV"
   ]
  },
  {
   "cell_type": "markdown",
   "id": "309be5d2-2d13-4ecb-a4b6-73e393f957d7",
   "metadata": {},
   "source": [
    "# Evaluation"
   ]
  },
  {
   "cell_type": "markdown",
   "id": "23d597cd",
   "metadata": {},
   "source": [
    "# Exercises"
   ]
  },
  {
   "cell_type": "markdown",
   "id": "12c3cf9f",
   "metadata": {},
   "source": [
    "1. Read `yelp.csv` into a DataFrame.\n",
    "1. Explore the relationship between each of the vote types (cool/useful/funny) and the number of stars.\n",
    "1. Define cool/useful/funny as the features, and stars as the response.\n",
    "1. Fit a linear regression model and interpret the coefficients. Do the coefficients make intuitive sense to you? Explore the Yelp website to see if you detect similar trends.\n",
    "\n",
    "<!--\n",
    "1. Submmit your report in Moodle. Template https://www.overleaf.com/read/xqcnnnrsspcp\n",
    "1. Evaluate the model by splitting it into training and testing sets and computing the RMSE. Does the RMSE make intuitive sense to you?\n",
    "6. Try removing some of the features and see if the RMSE improves.\n",
    "7. **Bonus:** Think of some new features you could create from the existing data that might be predictive of the response. (This is called \"feature engineering\".) Figure out how to create those features in Pandas, add them to your model, and see if the RMSE improves.\n",
    "8. **Bonus:** Compare your best RMSE on testing set with the RMSE for the \"null model\", which is the model that ignores all features and simply predicts the mean rating in the training set for all observations in the testing set.\n",
    "9. **Bonus:** Instead of treating this as a regression problem, treat it as a classification problem and see what testing accuracy you can achieve with KNN.\n",
    "10. **Bonus:** Figure out how to use linear regression for classification, and compare its classification accuracy to KNN.\n",
    "-->"
   ]
  },
  {
   "cell_type": "markdown",
   "id": "fb7fed08",
   "metadata": {
    "jp-MarkdownHeadingCollapsed": true
   },
   "source": [
    "## Versions"
   ]
  },
  {
   "cell_type": "code",
   "execution_count": null,
   "id": "2a784095",
   "metadata": {},
   "outputs": [],
   "source": [
    "from platform import python_version\n",
    "print(\"python version: \", python_version())"
   ]
  },
  {
   "cell_type": "markdown",
   "id": "2b0733ce",
   "metadata": {
    "jp-MarkdownHeadingCollapsed": true
   },
   "source": [
    "# References"
   ]
  },
  {
   "cell_type": "markdown",
   "id": "6849083f",
   "metadata": {},
   "source": [
    "[0] data https://tinyurl.com/2m3vr2xp\n",
    "\n",
    "[1] numpy https://numpy.org/\n",
    "\n",
    "[2] scipy https://docs.scipy.org/\n",
    "\n",
    "[3] matplotlib https://matplotlib.org/\n",
    "\n",
    "[4] matplotlib.cm https://matplotlib.org/stable/api/cm_api.html\n",
    "\n",
    "[5] matplotlib.pyplot https://matplotlib.org/stable/api/pyplot_summary.html\n",
    "\n",
    "[6] pandas https://pandas.pydata.org/docs/\n",
    "\n",
    "[7] seaborn https://seaborn.pydata.org/\n"
   ]
  },
  {
   "cell_type": "code",
   "execution_count": null,
   "id": "506a06be",
   "metadata": {},
   "outputs": [],
   "source": []
  }
 ],
 "metadata": {
  "kernelspec": {
   "display_name": "Python 3 (ipykernel)",
   "language": "python",
   "name": "python3"
  },
  "language_info": {
   "codemirror_mode": {
    "name": "ipython",
    "version": 3
   },
   "file_extension": ".py",
   "mimetype": "text/x-python",
   "name": "python",
   "nbconvert_exporter": "python",
   "pygments_lexer": "ipython3",
   "version": "3.11.7"
  },
  "vscode": {
   "interpreter": {
    "hash": "31f2aee4e71d21fbe5cf8b01ff0e069b9275f58929596ceb00d14d90e3e16cd6"
   }
  }
 },
 "nbformat": 4,
 "nbformat_minor": 5
}
