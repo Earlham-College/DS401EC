{
 "cells": [
  {
   "cell_type": "markdown",
   "id": "b459f174",
   "metadata": {},
   "source": [
    "# File to modules for Data Science and Statistics\n",
    "#### By: Javier Orduz\n",
    "[license-badge]: https://img.shields.io/badge/License-CC-orange\n",
    "[license]: https://creativecommons.org/licenses/by-nc-sa/3.0/deed.en\n",
    "[![CC License][license-badge]][license]\n",
    "[![DS](https://img.shields.io/badge/downloads-DS-green)](https://github.com/Earlham-College/DS_Fall_2022)\n",
    "[![Github](https://img.shields.io/badge/jaorduz-repos-blue)](https://github.com/jaorduz/)\n",
    "[![Github](https://img.shields.io/badge/jaorduc-repos-blue)](https://github.com/jaorduc/)\n",
    "![Follow @jaorduc](https://img.shields.io/twitter/follow/jaorduc?label=follow&logo=twitter&logoColor=lkj&style=plastic)\n"
   ]
  },
  {
   "cell_type": "markdown",
   "id": "5e530465",
   "metadata": {},
   "source": [
    "<div class=\"alert  alert-block alert-info\" style=\"margin-top: 1px\">\n",
    "    <ol>\n",
    "        <li><a href=\"#unData\">Import modules</a></li>\n",
    "         <!-- <ol>\n",
    "             <li><a href=\"#reData\">Reading</a></li>\n",
    "         </ol> -->\n",
    "        <li><a href=\"#daExploration\">Read CSV</a></li>\n",
    "        <li><a href=\"#showData\">Exercises</a></li>\n",
    "        <li><a href=\"#exerci\">Version</a></li>\n",
    "        <li><a href=\"#exerci\">References</a></li>\n",
    "</ol>\n",
    "</div>\n",
    "<br>\n",
    "<hr>"
   ]
  },
  {
   "cell_type": "markdown",
   "id": "5f9997bd",
   "metadata": {},
   "source": [
    "## Imports ```numpy```"
   ]
  },
  {
   "cell_type": "markdown",
   "id": "d46d939a",
   "metadata": {},
   "source": [
    "### A numerical programming library"
   ]
  },
  {
   "cell_type": "code",
   "execution_count": 1,
   "id": "6342fe74",
   "metadata": {},
   "outputs": [],
   "source": [
    "import numpy as np"
   ]
  },
  {
   "cell_type": "markdown",
   "id": "af616997",
   "metadata": {},
   "source": [
    "```Numpy``` check some documentation [1]"
   ]
  },
  {
   "cell_type": "markdown",
   "id": "f7921772",
   "metadata": {},
   "source": [
    "##  Imports statistics functions and more"
   ]
  },
  {
   "cell_type": "code",
   "execution_count": 2,
   "id": "f21e729d",
   "metadata": {},
   "outputs": [],
   "source": [
    "import scipy as sp "
   ]
  },
  {
   "cell_type": "markdown",
   "id": "1f75912f",
   "metadata": {},
   "source": [
    "```scipy``` check some documentation [2]"
   ]
  },
  {
   "cell_type": "markdown",
   "id": "e2ef5e70",
   "metadata": {},
   "source": [
    "## Imports ```matplotlib```"
   ]
  },
  {
   "cell_type": "code",
   "execution_count": 3,
   "id": "0a7763f6",
   "metadata": {},
   "outputs": [],
   "source": [
    "import matplotlib as mpl"
   ]
  },
  {
   "cell_type": "markdown",
   "id": "685fe677",
   "metadata": {},
   "source": [
    "```matplotlib``` check come documentation [3]"
   ]
  },
  {
   "cell_type": "markdown",
   "id": "43fb712c",
   "metadata": {},
   "source": [
    "### Module: to access to colormaps"
   ]
  },
  {
   "cell_type": "code",
   "execution_count": 4,
   "id": "df8d0b37",
   "metadata": {},
   "outputs": [],
   "source": [
    "import matplotlib.cm as cm"
   ]
  },
  {
   "cell_type": "markdown",
   "id": "9593fd3d",
   "metadata": {},
   "source": [
    "```matplotlib.cm``` check some documentation [4]"
   ]
  },
  {
   "cell_type": "markdown",
   "id": "b27a4593",
   "metadata": {},
   "source": [
    "### Module: to set up plotting under plt"
   ]
  },
  {
   "cell_type": "code",
   "execution_count": 5,
   "id": "d2ea4247",
   "metadata": {},
   "outputs": [],
   "source": [
    "import matplotlib.pyplot as plt"
   ]
  },
  {
   "cell_type": "markdown",
   "id": "31bc6c47",
   "metadata": {},
   "source": [
    "```matplotlib.pyplot``` check some documentation [5]"
   ]
  },
  {
   "cell_type": "markdown",
   "id": "22de2a55",
   "metadata": {},
   "source": [
    "## Imports ```pandas``` to use data as dataframes"
   ]
  },
  {
   "cell_type": "code",
   "execution_count": 6,
   "id": "99ee0d3d",
   "metadata": {},
   "outputs": [],
   "source": [
    "import pandas as pd"
   ]
  },
  {
   "cell_type": "markdown",
   "id": "49b855b9",
   "metadata": {},
   "source": [
    "```pandas``` check some documentation [6]"
   ]
  },
  {
   "cell_type": "markdown",
   "id": "18b92850",
   "metadata": {},
   "source": [
    "### Option to manipulate size and more"
   ]
  },
  {
   "cell_type": "code",
   "execution_count": 7,
   "id": "2463b9ac",
   "metadata": {},
   "outputs": [],
   "source": [
    "#sets up pandas table display\n",
    "pd.set_option('display.width', 500)\n",
    "pd.set_option('display.max_columns', 100)\n",
    "pd.set_option('display.notebook_repr_html', True)"
   ]
  },
  {
   "cell_type": "markdown",
   "id": "ef771fb8",
   "metadata": {},
   "source": [
    "## Line to embed plots"
   ]
  },
  {
   "cell_type": "code",
   "execution_count": 10,
   "id": "f75711d1",
   "metadata": {},
   "outputs": [],
   "source": [
    "%matplotlib inline"
   ]
  },
  {
   "cell_type": "markdown",
   "id": "3cc18357",
   "metadata": {},
   "source": [
    "## Imports ```seaborn```"
   ]
  },
  {
   "cell_type": "markdown",
   "id": "6091ccea",
   "metadata": {},
   "source": [
    "### sets up styles and gives us more plotting options"
   ]
  },
  {
   "cell_type": "code",
   "execution_count": 11,
   "id": "4227df88",
   "metadata": {},
   "outputs": [],
   "source": [
    "import seaborn as sns"
   ]
  },
  {
   "cell_type": "markdown",
   "id": "31d08cb0",
   "metadata": {},
   "source": [
    "```seaborn``` check some documentation [7]"
   ]
  },
  {
   "cell_type": "markdown",
   "id": "ab322b52",
   "metadata": {},
   "source": [
    "# Exercises"
   ]
  },
  {
   "cell_type": "markdown",
   "id": "484b69a8",
   "metadata": {},
   "source": [
    "1. Consider this list ```alist=[1,2,3,4,5]```, obtain with an interation a new list with the i-element-squared\n",
    "```output -> [1,4,6,16,25]```\n",
    "\n",
    "<!---\n",
    "alist=[1,2,3,4,5]\n",
    "asquaredlist=[i*i for i in alist]\n",
    "asquaredlist\n",
    "--->\n",
    "2. Create a Jupyter Notebook where you implement some functions, methods, and different parameters with each module/package. Check **NB_Examples** folder.\n",
    "3. Submmit your report in Moodle. Template https://www.overleaf.com/read/xqcnnnrsspcp"
   ]
  },
  {
   "cell_type": "markdown",
   "id": "cb235eb5",
   "metadata": {},
   "source": [
    "## Versions"
   ]
  },
  {
   "cell_type": "code",
   "execution_count": 12,
   "id": "c1ff0dbb",
   "metadata": {},
   "outputs": [
    {
     "name": "stdout",
     "output_type": "stream",
     "text": [
      "python version:  3.7.4\n"
     ]
    }
   ],
   "source": [
    "from platform import python_version\n",
    "print(\"python version: \", python_version())\n",
    "!pip3 freeze | grep qiskit"
   ]
  },
  {
   "cell_type": "markdown",
   "id": "34f0644f",
   "metadata": {},
   "source": [
    "# References"
   ]
  },
  {
   "cell_type": "markdown",
   "id": "ab5a4316",
   "metadata": {},
   "source": [
    "[1] numpy https://numpy.org/\n",
    "\n",
    "[2] scipy https://docs.scipy.org/\n",
    "\n",
    "[3] matplotlib https://matplotlib.org/\n",
    "\n",
    "[4] matplotlib.cm https://matplotlib.org/stable/api/cm_api.html\n",
    "\n",
    "[5] matplotlib.pyplot https://matplotlib.org/stable/api/pyplot_summary.html\n",
    "\n",
    "[6] pandas https://pandas.pydata.org/docs/\n",
    "\n",
    "[7] seaborn https://seaborn.pydata.org/"
   ]
  }
 ],
 "metadata": {
  "kernelspec": {
   "display_name": "Python 3",
   "language": "python",
   "name": "python3"
  },
  "language_info": {
   "codemirror_mode": {
    "name": "ipython",
    "version": 3
   },
   "file_extension": ".py",
   "mimetype": "text/x-python",
   "name": "python",
   "nbconvert_exporter": "python",
   "pygments_lexer": "ipython3",
   "version": "3.7.4"
  },
  "vscode": {
   "interpreter": {
    "hash": "31f2aee4e71d21fbe5cf8b01ff0e069b9275f58929596ceb00d14d90e3e16cd6"
   }
  }
 },
 "nbformat": 4,
 "nbformat_minor": 5
}
