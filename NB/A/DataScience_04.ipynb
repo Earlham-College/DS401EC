{
 "cells": [
  {
   "cell_type": "markdown",
   "id": "7a95c653",
   "metadata": {},
   "source": [
    "# File to modules for Data Science and Statistics\n",
    "#### By: Javier Orduz\n",
    "[license-badge]: https://img.shields.io/badge/License-CC-orange\n",
    "[license]: https://creativecommons.org/licenses/by-nc-sa/3.0/deed.en\n",
    "[![CC License][license-badge]][license]\n",
    "[![DS](https://img.shields.io/badge/downloads-DS-green)](https://github.com/Earlham-College/DS_Fall_2022)\n",
    "[![Github](https://img.shields.io/badge/jaorduz-repos-blue)](https://github.com/jaorduz/)\n",
    "[![Github](https://img.shields.io/badge/jaorduc-repos-blue)](https://github.com/jaorduc/)\n",
    "![Follow @jaorduc](https://img.shields.io/twitter/follow/jaorduc?label=follow&logo=twitter&logoColor=lkj&style=plastic)\n"
   ]
  },
  {
   "cell_type": "markdown",
   "id": "63dec7eb",
   "metadata": {},
   "source": [
    "<div class=\"alert  alert-block alert-info\" style=\"margin-top: 1px\">\n",
    "    <ol>\n",
    "        <li><a href=\"#unData\">Import modules</a></li>\n",
    "         <!-- <ol>\n",
    "             <li><a href=\"#reData\">Reading</a></li>\n",
    "         </ol> -->\n",
    "        <li><a href=\"#daExploration\">Read CSV</a></li>\n",
    "        <li><a href=\"#showData\">Exercises</a></li>\n",
    "        <li><a href=\"#exerci\">Version</a></li>\n",
    "        <li><a href=\"#exerci\">References</a></li>\n",
    "</ol>\n",
    "</div>\n",
    "<br>\n",
    "<hr>"
   ]
  },
  {
   "cell_type": "markdown",
   "id": "33cccfb4",
   "metadata": {},
   "source": [
    "## Imports ```numpy```"
   ]
  },
  {
   "cell_type": "markdown",
   "id": "3d6405bc",
   "metadata": {},
   "source": [
    "### A numerical programming library"
   ]
  },
  {
   "cell_type": "code",
   "execution_count": 1,
   "id": "d3941108",
   "metadata": {},
   "outputs": [],
   "source": [
    "import numpy as np"
   ]
  },
  {
   "cell_type": "markdown",
   "id": "be754358",
   "metadata": {},
   "source": [
    "```Numpy``` check some documentation [1]"
   ]
  },
  {
   "cell_type": "markdown",
   "id": "ac91235a",
   "metadata": {},
   "source": [
    "##  Imports statistics functions and more"
   ]
  },
  {
   "cell_type": "code",
   "execution_count": 2,
   "id": "819fde4c",
   "metadata": {},
   "outputs": [],
   "source": [
    "import scipy as sp "
   ]
  },
  {
   "cell_type": "markdown",
   "id": "4e34df8d",
   "metadata": {},
   "source": [
    "```scipy``` check some documentation [2]"
   ]
  },
  {
   "cell_type": "markdown",
   "id": "763c9e9a",
   "metadata": {},
   "source": [
    "## Imports ```matplotlib```"
   ]
  },
  {
   "cell_type": "code",
   "execution_count": 3,
   "id": "81649cee",
   "metadata": {},
   "outputs": [],
   "source": [
    "import matplotlib as mpl"
   ]
  },
  {
   "cell_type": "markdown",
   "id": "cc09005b",
   "metadata": {},
   "source": [
    "```matplotlib``` check come documentation [3]"
   ]
  },
  {
   "cell_type": "markdown",
   "id": "5bb1ec71",
   "metadata": {},
   "source": [
    "### Module: to access to colormaps"
   ]
  },
  {
   "cell_type": "code",
   "execution_count": 4,
   "id": "927e7023",
   "metadata": {},
   "outputs": [],
   "source": [
    "import matplotlib.cm as cm"
   ]
  },
  {
   "cell_type": "markdown",
   "id": "3a977d5c",
   "metadata": {},
   "source": [
    "```matplotlib.cm``` check some documentation [4]"
   ]
  },
  {
   "cell_type": "markdown",
   "id": "76ef4762",
   "metadata": {},
   "source": [
    "### Module: to set up plotting under plt"
   ]
  },
  {
   "cell_type": "code",
   "execution_count": 5,
   "id": "4ee04561",
   "metadata": {},
   "outputs": [],
   "source": [
    "import matplotlib.pyplot as plt"
   ]
  },
  {
   "cell_type": "markdown",
   "id": "44fa7367",
   "metadata": {},
   "source": [
    "```matplotlib.pyplot``` check some documentation [5]"
   ]
  },
  {
   "cell_type": "markdown",
   "id": "f5a267ce",
   "metadata": {},
   "source": [
    "## Imports ```pandas``` to use data as dataframes"
   ]
  },
  {
   "cell_type": "code",
   "execution_count": 6,
   "id": "dfba0b3e",
   "metadata": {},
   "outputs": [],
   "source": [
    "import pandas as pd"
   ]
  },
  {
   "cell_type": "markdown",
   "id": "850a3c61",
   "metadata": {},
   "source": [
    "```pandas``` check some documentation [6]"
   ]
  },
  {
   "cell_type": "markdown",
   "id": "11d63a09",
   "metadata": {},
   "source": [
    "### Option to manipulate size and more"
   ]
  },
  {
   "cell_type": "code",
   "execution_count": 7,
   "id": "92fbdb99",
   "metadata": {},
   "outputs": [],
   "source": [
    "#sets up pandas table display\n",
    "pd.set_option('display.width', 500)\n",
    "pd.set_option('display.max_columns', 100)\n",
    "pd.set_option('display.notebook_repr_html', True)"
   ]
  },
  {
   "cell_type": "markdown",
   "id": "423b2dfb",
   "metadata": {},
   "source": [
    "## Line to embed plots"
   ]
  },
  {
   "cell_type": "code",
   "execution_count": 10,
   "id": "c8fa75aa",
   "metadata": {},
   "outputs": [],
   "source": [
    "%matplotlib inline"
   ]
  },
  {
   "cell_type": "markdown",
   "id": "5adbba35",
   "metadata": {},
   "source": [
    "## Imports ```seaborn```"
   ]
  },
  {
   "cell_type": "markdown",
   "id": "83149c7c",
   "metadata": {},
   "source": [
    "### sets up styles and gives us more plotting options"
   ]
  },
  {
   "cell_type": "code",
   "execution_count": 11,
   "id": "6fc5c5c4",
   "metadata": {},
   "outputs": [],
   "source": [
    "import seaborn as sns"
   ]
  },
  {
   "cell_type": "markdown",
   "id": "b40bb593",
   "metadata": {},
   "source": [
    "```seaborn``` check some documentation [7]"
   ]
  },
  {
   "cell_type": "markdown",
   "id": "be6ceef7",
   "metadata": {},
   "source": [
    "# Exercises"
   ]
  },
  {
   "cell_type": "markdown",
   "id": "ee14fe6e",
   "metadata": {},
   "source": [
    "1. Consider this list ```alist=[1,2,3,4,5]```, obtain with an interation a new list with the i-element-squared\n",
    "```output -> [1,4,6,16,25]```\n",
    "\n",
    "<!---\n",
    "alist=[1,2,3,4,5]\n",
    "asquaredlist=[i*i for i in alist]\n",
    "asquaredlist\n",
    "--->\n",
    "2. Create a Jupyter Notebook where you implement some functions, methods, and different parameters with each module/package. Check **NB_Examples** folder.\n",
    "3. Submmit your report in Moodle. Template https://www.overleaf.com/read/xqcnnnrsspcp"
   ]
  },
  {
   "cell_type": "markdown",
   "id": "5c547321",
   "metadata": {},
   "source": [
    "## Versions"
   ]
  },
  {
   "cell_type": "code",
   "execution_count": 12,
   "id": "a5abf296",
   "metadata": {},
   "outputs": [
    {
     "name": "stdout",
     "output_type": "stream",
     "text": [
      "python version:  3.7.4\n"
     ]
    }
   ],
   "source": [
    "from platform import python_version\n",
    "print(\"python version: \", python_version())\n",
    "!pip3 freeze | grep qiskit"
   ]
  },
  {
   "cell_type": "markdown",
   "id": "0f0c9aee",
   "metadata": {},
   "source": [
    "# References"
   ]
  },
  {
   "cell_type": "markdown",
   "id": "99fe172f",
   "metadata": {},
   "source": [
    "[1] numpy https://numpy.org/\n",
    "\n",
    "[2] scipy https://docs.scipy.org/\n",
    "\n",
    "[3] matplotlib https://matplotlib.org/\n",
    "\n",
    "[4] matplotlib.cm https://matplotlib.org/stable/api/cm_api.html\n",
    "\n",
    "[5] matplotlib.pyplot https://matplotlib.org/stable/api/pyplot_summary.html\n",
    "\n",
    "[6] pandas https://pandas.pydata.org/docs/\n",
    "\n",
    "[7] seaborn https://seaborn.pydata.org/"
   ]
  }
 ],
 "metadata": {
  "kernelspec": {
   "display_name": "Python 3",
   "language": "python",
   "name": "python3"
  },
  "language_info": {
   "codemirror_mode": {
    "name": "ipython",
    "version": 3
   },
   "file_extension": ".py",
   "mimetype": "text/x-python",
   "name": "python",
   "nbconvert_exporter": "python",
   "pygments_lexer": "ipython3",
   "version": "3.7.4"
  },
  "vscode": {
   "interpreter": {
    "hash": "31f2aee4e71d21fbe5cf8b01ff0e069b9275f58929596ceb00d14d90e3e16cd6"
   }
  }
 },
 "nbformat": 4,
 "nbformat_minor": 5
}
