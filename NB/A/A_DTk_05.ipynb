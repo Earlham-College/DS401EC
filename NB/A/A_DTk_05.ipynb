{
 "cells": [
  {
   "cell_type": "markdown",
   "id": "e529e2bb",
   "metadata": {},
   "source": [
    "# Statistics for Data Science [DS401]\n",
    "## File to Documents, and tokenization\n",
    "#### By: Javier Orduz\n",
    "\n",
    "[licenseBDG]: https://img.shields.io/badge/License-CC-orange?style=plastic\n",
    "[license]: https://creativecommons.org/licenses/by-nc-sa/3.0/deed.en\n",
    "\n",
    "[mywebsiteBDG]:https://img.shields.io/badge/website-jaorduz.github.io-0abeeb?style=plastic\n",
    "[mywebsite]: https://jaorduz.github.io/\n",
    "\n",
    "[mygithubBDG-jaorduz]: https://img.shields.io/badge/jaorduz-repos-blue?logo=github&label=jaorduz&style=plastic\n",
    "[mygithub-jaorduz]: https://github.com/jaorduz/\n",
    "\n",
    "[mygithubBDG-jaorduc]: https://img.shields.io/badge/jaorduc-repos-blue?logo=github&label=jaorduc&style=plastic \n",
    "[mygithub-jaorduc]: https://github.com/jaorduc/\n",
    "\n",
    "[myXprofileBDG]: https://img.shields.io/static/v1?label=Follow&message=jaorduc&color=2ea44f&style=plastic&logo=X&logoColor=black\n",
    "[myXprofile]:https://twitter.com/jaorduc\n",
    "\n",
    "\n",
    "[![website - jaorduz.github.io][mywebsiteBDG]][mywebsite]\n",
    "[![Github][mygithubBDG-jaorduz]][mygithub-jaorduz]\n",
    "[![Github][mygithubBDG-jaorduc]][mygithub-jaorduc]\n",
    "[![Follow @jaorduc][myXprofileBDG]][myXprofile]\n",
    "[![CC License][licenseBDG]][license]\n"
   ]
  },
  {
   "cell_type": "markdown",
   "id": "a4632078",
   "metadata": {},
   "source": [
    "\n",
    "<div class=\"alert  alert-block alert-info\" style=\"margin-top: 1px\">\n",
    "    <ol>\n",
    "        <li><a href=\"#unData\">Working with text</a></li>\n",
    "         <!-- <ol>\n",
    "             <li><a href=\"#reData\">Reading</a></li>\n",
    "         </ol> -->\n",
    "        <li><a href=\"#daExploration\">Read TXT</a></li>\n",
    "        <li><a href=\"#showData\">Show data</a></li>\n",
    "        <li><a href=\"#showData\">Tokenization</a></li>\n",
    "        <li><a href=\"#showData\">Reorganize</a></li>\n",
    "<li><a href=\"#exerci\">Exercises</a></li>\n",
    "    </ol>\n",
    "</div>\n",
    "<br>\n",
    "<hr>"
   ]
  },
  {
   "cell_type": "markdown",
   "id": "fb262c49",
   "metadata": {},
   "source": [
    "# Documents, words, and tokenization"
   ]
  },
  {
   "cell_type": "code",
   "execution_count": null,
   "id": "c2816502",
   "metadata": {},
   "outputs": [],
   "source": [
    "f = open(\"../../data/hamlet.txt\", \"r\")"
   ]
  },
  {
   "cell_type": "code",
   "execution_count": null,
   "id": "061a7328",
   "metadata": {},
   "outputs": [],
   "source": [
    "ftext = f.read()"
   ]
  },
  {
   "cell_type": "code",
   "execution_count": null,
   "id": "02db049d",
   "metadata": {},
   "outputs": [],
   "source": [
    "f.close()"
   ]
  },
  {
   "cell_type": "code",
   "execution_count": null,
   "id": "42e54dd7",
   "metadata": {},
   "outputs": [],
   "source": [
    "ftokens = ftext.split()"
   ]
  },
  {
   "cell_type": "markdown",
   "id": "daa02264",
   "metadata": {},
   "source": [
    "## Firsts 7 elements"
   ]
  },
  {
   "cell_type": "code",
   "execution_count": null,
   "id": "740b3ef1",
   "metadata": {},
   "outputs": [],
   "source": [
    "print(ftext[30:34])"
   ]
  },
  {
   "cell_type": "code",
   "execution_count": null,
   "id": "48ea3438",
   "metadata": {},
   "outputs": [],
   "source": [
    "print(ftext)"
   ]
  },
  {
   "cell_type": "code",
   "execution_count": null,
   "id": "b7928433",
   "metadata": {},
   "outputs": [],
   "source": [
    "print(ftokens);"
   ]
  },
  {
   "cell_type": "code",
   "execution_count": null,
   "id": "711771d4",
   "metadata": {},
   "outputs": [],
   "source": [
    "print(\"The number of words is \", len(ftokens))"
   ]
  },
  {
   "cell_type": "markdown",
   "id": "cb8efcc8",
   "metadata": {},
   "source": [
    "## Last elements"
   ]
  },
  {
   "cell_type": "code",
   "execution_count": null,
   "id": "b2b0a4b8",
   "metadata": {},
   "outputs": [],
   "source": [
    "print(ftext[-15:])"
   ]
  },
  {
   "cell_type": "markdown",
   "id": "9adcaf06",
   "metadata": {},
   "source": [
    "## Tokens"
   ]
  },
  {
   "cell_type": "code",
   "execution_count": null,
   "id": "186550de",
   "metadata": {},
   "outputs": [],
   "source": [
    "print(ftokens[2:7])"
   ]
  },
  {
   "cell_type": "markdown",
   "id": "6ac7d794",
   "metadata": {},
   "source": [
    "## Picking some words"
   ]
  },
  {
   "cell_type": "markdown",
   "id": "6ff0afd8",
   "metadata": {},
   "source": [
    "Get every 2nd word between the 1st and the 3th: i.e. 1st, and 3th."
   ]
  },
  {
   "cell_type": "code",
   "execution_count": null,
   "id": "179993c9",
   "metadata": {},
   "outputs": [],
   "source": [
    "print(ftokens[1:7:2])"
   ]
  },
  {
   "cell_type": "code",
   "execution_count": null,
   "id": "0f3cd93e",
   "metadata": {},
   "outputs": [],
   "source": [
    "print(ftokens[1:7]+ftokens[1:7:2])"
   ]
  },
  {
   "cell_type": "code",
   "execution_count": null,
   "id": "cc20024d",
   "metadata": {},
   "outputs": [],
   "source": [
    "fstring=\"-\".join(ftokens[1:7:2])"
   ]
  },
  {
   "cell_type": "code",
   "execution_count": null,
   "id": "573c96ae",
   "metadata": {},
   "outputs": [],
   "source": [
    "print(fstring)"
   ]
  },
  {
   "cell_type": "markdown",
   "id": "4d620c6a",
   "metadata": {},
   "source": [
    "##  Exercises"
   ]
  },
  {
   "cell_type": "markdown",
   "id": "8002924f",
   "metadata": {},
   "source": [
    "1. Investigate more operations with tokens.\n",
    "2. Count the different words.\n",
    "3. Plot a bar chart.\n",
    "4. Use a different text file. **Extra point** Create a function to concatenate two random words from the text file.\n",
    "5. Submmit your report in Moodle. Template https://www.overleaf.com/read/xqcnnnrsspcp"
   ]
  },
  {
   "cell_type": "markdown",
   "id": "0a751917",
   "metadata": {},
   "source": [
    "## Versions"
   ]
  },
  {
   "cell_type": "code",
   "execution_count": null,
   "id": "bef610cb",
   "metadata": {},
   "outputs": [],
   "source": [
    "from platform import python_version\n",
    "print(\"python version: \", python_version())\n",
    "!pip3 freeze | grep qiskit"
   ]
  },
  {
   "cell_type": "markdown",
   "id": "10fb549e",
   "metadata": {},
   "source": [
    "# References"
   ]
  },
  {
   "cell_type": "markdown",
   "id": "3d648790",
   "metadata": {},
   "source": [
    "[1] numpy https://numpy.org/\n",
    "\n",
    "[2] scipy https://docs.scipy.org/\n",
    "\n",
    "[3] matplotlib https://matplotlib.org/\n",
    "\n",
    "[4] matplotlib.cm https://matplotlib.org/stable/api/cm_api.html\n",
    "\n",
    "[5] matplotlib.pyplot https://matplotlib.org/stable/api/pyplot_summary.html\n",
    "\n",
    "[6] pandas https://pandas.pydata.org/docs/\n",
    "\n",
    "[7] seaborn https://seaborn.pydata.org/"
   ]
  }
 ],
 "metadata": {
  "kernelspec": {
   "display_name": "Python 3 (ipykernel)",
   "language": "python",
   "name": "python3"
  },
  "language_info": {
   "codemirror_mode": {
    "name": "ipython",
    "version": 3
   },
   "file_extension": ".py",
   "mimetype": "text/x-python",
   "name": "python",
   "nbconvert_exporter": "python",
   "pygments_lexer": "ipython3",
   "version": "3.11.7"
  },
  "vscode": {
   "interpreter": {
    "hash": "31f2aee4e71d21fbe5cf8b01ff0e069b9275f58929596ceb00d14d90e3e16cd6"
   }
  }
 },
 "nbformat": 4,
 "nbformat_minor": 5
}
