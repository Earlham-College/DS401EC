{
 "cells": [
  {
   "cell_type": "markdown",
   "id": "8eaf7b3b",
   "metadata": {},
   "source": [
    "# Data Science\n",
    "#### By: Javier Orduz\n",
    "[license-badge]: https://img.shields.io/badge/License-CC-orange\n",
    "[license]: https://creativecommons.org/licenses/by-nc-sa/3.0/deed.en\n",
    "\n",
    "[![CC License][license-badge]][license]  [![DS](https://img.shields.io/badge/downloads-DS-green)](https://github.com/Earlham-College/DS_Fall_2022)  [![Github](https://img.shields.io/badge/jaorduz-repos-blue)](https://github.com/jaorduz/)  ![Follow @jaorduc](https://img.shields.io/twitter/follow/jaorduc?label=follow&logo=twitter&logoColor=lkj&style=plastic)\n",
    "\n",
    "## Contents\n",
    "1. [List and Tuples](#list_tuples)\n",
    "1. [Exercises](#exercises)\n",
    "1. [References](#references)"
   ]
  },
  {
   "cell_type": "markdown",
   "id": "2ad1eef3",
   "metadata": {},
   "source": [
    "# Lists and Tuples <a name=\"list_tuples\"></a>"
   ]
  },
  {
   "cell_type": "markdown",
   "id": "4cba55e9",
   "metadata": {},
   "source": [
    "In short, a list is a collection of arbitrary objects, somewhat akin to an array in many other programming languages but more flexible. **Lists are defined in Python by enclosing a comma-separated sequence of objects in square brackets** [1], as shown below:"
   ]
  },
  {
   "cell_type": "markdown",
   "id": "0d9b9d0c",
   "metadata": {},
   "source": [
    "## Same type"
   ]
  },
  {
   "cell_type": "code",
   "execution_count": null,
   "id": "f0ecb6cd",
   "metadata": {},
   "outputs": [],
   "source": [
    "a = ['foo', 'bar', 'baz', 'qux']"
   ]
  },
  {
   "cell_type": "code",
   "execution_count": null,
   "id": "f67bc172",
   "metadata": {},
   "outputs": [],
   "source": [
    "a"
   ]
  },
  {
   "cell_type": "code",
   "execution_count": null,
   "id": "b99628d0",
   "metadata": {},
   "outputs": [],
   "source": [
    "b = [1, 2, 3, 4]"
   ]
  },
  {
   "cell_type": "code",
   "execution_count": null,
   "id": "c9b198fd",
   "metadata": {},
   "outputs": [],
   "source": [
    "b"
   ]
  },
  {
   "cell_type": "markdown",
   "id": "5daa5b51",
   "metadata": {},
   "source": [
    "## Different type"
   ]
  },
  {
   "cell_type": "code",
   "execution_count": null,
   "id": "5bbf013a",
   "metadata": {},
   "outputs": [],
   "source": [
    "c = [21.42, 'foobar', 3, 4, 'bark', False, 3.14159]"
   ]
  },
  {
   "cell_type": "code",
   "execution_count": null,
   "id": "a1191b90",
   "metadata": {},
   "outputs": [],
   "source": [
    "c"
   ]
  },
  {
   "cell_type": "markdown",
   "id": "2e0c47ba",
   "metadata": {},
   "source": [
    "Even lists can contain functions, classes, and modules.\n",
    "Each list assignes index for all elements starting from 0 (from left or -1 starting from right)."
   ]
  },
  {
   "cell_type": "code",
   "execution_count": null,
   "id": "ed612136",
   "metadata": {},
   "outputs": [],
   "source": [
    "c[0]"
   ]
  },
  {
   "cell_type": "code",
   "execution_count": null,
   "id": "c2cc1171",
   "metadata": {},
   "outputs": [],
   "source": [
    "a[-1]"
   ]
  },
  {
   "cell_type": "markdown",
   "id": "4d00cde3",
   "metadata": {},
   "source": [
    "# Part of the list"
   ]
  },
  {
   "cell_type": "code",
   "execution_count": null,
   "id": "254bd0da",
   "metadata": {},
   "outputs": [],
   "source": [
    "b[1:3]"
   ]
  },
  {
   "cell_type": "markdown",
   "id": "e36082ea",
   "metadata": {},
   "source": [
    "## Operating with lists"
   ]
  },
  {
   "cell_type": "code",
   "execution_count": null,
   "id": "46b61f97",
   "metadata": {},
   "outputs": [],
   "source": [
    "a + b"
   ]
  },
  {
   "cell_type": "markdown",
   "id": "6e510129",
   "metadata": {},
   "source": [
    "# Mutable\n",
    "\n",
    "It can be changed once they have been assigned."
   ]
  },
  {
   "cell_type": "markdown",
   "id": "28f18bd6",
   "metadata": {},
   "source": [
    "##  Tuples"
   ]
  },
  {
   "cell_type": "markdown",
   "id": "dc07fc36",
   "metadata": {},
   "source": [
    "1. Tuples are **immutables**"
   ]
  },
  {
   "cell_type": "code",
   "execution_count": null,
   "id": "aa73a97f",
   "metadata": {},
   "outputs": [],
   "source": [
    "e = (1, 2, 3)"
   ]
  },
  {
   "cell_type": "code",
   "execution_count": null,
   "id": "99d8e216",
   "metadata": {},
   "outputs": [],
   "source": [
    "e"
   ]
  },
  {
   "cell_type": "code",
   "execution_count": null,
   "id": "7ec8c326",
   "metadata": {},
   "outputs": [],
   "source": [
    "e[0]"
   ]
  },
  {
   "cell_type": "markdown",
   "id": "ffd0a782",
   "metadata": {},
   "source": [
    "Reversal mechanism"
   ]
  },
  {
   "cell_type": "code",
   "execution_count": null,
   "id": "444d8838",
   "metadata": {},
   "outputs": [],
   "source": [
    "e[::-1]"
   ]
  },
  {
   "cell_type": "markdown",
   "id": "bffe80db",
   "metadata": {},
   "source": [
    "- Program execution is faster when manipulating **tuples**\n",
    "- Sometimes we want immutable data\n",
    "- Dictionarie concept uses the immutable propierty."
   ]
  },
  {
   "cell_type": "markdown",
   "id": "c912616d",
   "metadata": {},
   "source": [
    "# Packing and unpacking "
   ]
  },
  {
   "cell_type": "code",
   "execution_count": null,
   "id": "7ca2dff6",
   "metadata": {},
   "outputs": [],
   "source": [
    "(v1, v2, v3) = (2, 20, 200)"
   ]
  },
  {
   "cell_type": "code",
   "execution_count": null,
   "id": "8b210440",
   "metadata": {},
   "outputs": [],
   "source": [
    "v3"
   ]
  },
  {
   "cell_type": "markdown",
   "id": "bc908238",
   "metadata": {},
   "source": [
    "You can test it without parenthesis."
   ]
  },
  {
   "cell_type": "markdown",
   "id": "31952e8d",
   "metadata": {},
   "source": [
    "# Modifying "
   ]
  },
  {
   "cell_type": "code",
   "execution_count": null,
   "id": "c671371b",
   "metadata": {},
   "outputs": [],
   "source": [
    "d = [1,2,3,4,5,6,7,8]"
   ]
  },
  {
   "cell_type": "code",
   "execution_count": null,
   "id": "1a785d03",
   "metadata": {},
   "outputs": [],
   "source": [
    "d[1:6]=[9]"
   ]
  },
  {
   "cell_type": "code",
   "execution_count": null,
   "id": "055128af",
   "metadata": {},
   "outputs": [],
   "source": [
    "d"
   ]
  },
  {
   "cell_type": "markdown",
   "id": "f55d9054",
   "metadata": {},
   "source": [
    "We replace a specific slice of the list with a new value```d[1:6]=[9]```"
   ]
  },
  {
   "cell_type": "markdown",
   "id": "cd250c16",
   "metadata": {},
   "source": [
    "# Dictionaries"
   ]
  },
  {
   "cell_type": "markdown",
   "id": "3ed6f5a9",
   "metadata": {},
   "source": [
    "A dictionary is a collection which is \n",
    "    - **ordered**, \n",
    "    - **changeable** and \n",
    "    - **does not allow duplicates**.\n",
    "\n",
    "Dictionaries are used to store data values in ```key:value```pairs.\n",
    "\n"
   ]
  },
  {
   "cell_type": "code",
   "execution_count": 3,
   "id": "ef813547",
   "metadata": {},
   "outputs": [
    {
     "name": "stdout",
     "output_type": "stream",
     "text": [
      "{'brand': 'Ford', 'model': 'Mustang', 'year': 1964}\n"
     ]
    }
   ],
   "source": [
    "thisdict =\t{\n",
    "  \"brand\": \"Ford\",\n",
    "  \"model\": \"Mustang\",\n",
    "  \"year\": 1964\n",
    "}\n",
    "print(thisdict)"
   ]
  },
  {
   "cell_type": "code",
   "execution_count": 4,
   "id": "32e63d0c",
   "metadata": {},
   "outputs": [
    {
     "name": "stdout",
     "output_type": "stream",
     "text": [
      "Ford\n"
     ]
    }
   ],
   "source": [
    " print(thisdict[\"brand\"])"
   ]
  },
  {
   "cell_type": "markdown",
   "id": "eba28a81",
   "metadata": {},
   "source": [
    "# Set"
   ]
  },
  {
   "cell_type": "markdown",
   "id": "199b3be4",
   "metadata": {},
   "source": [
    "Sets are used to store multiple items in a single variable.\n",
    "A set is a collection which is **unordered, unchangeable**, and **unindexed**."
   ]
  },
  {
   "cell_type": "code",
   "execution_count": 5,
   "id": "c402f4a3",
   "metadata": {},
   "outputs": [],
   "source": [
    " myset = {\"apple\", \"banana\", \"cherry\"} "
   ]
  },
  {
   "cell_type": "markdown",
   "id": "db7343c6",
   "metadata": {},
   "source": [
    "The items in the set \n",
    "    - do not have a defined order.\n",
    "    - Set items cannot be changed after the set has been created.\n",
    "    - and cannot be referred to by index or key"
   ]
  },
  {
   "cell_type": "markdown",
   "id": "2005fc46",
   "metadata": {},
   "source": [
    "# Exercises <a name=\"exercises\"></a>"
   ]
  },
  {
   "cell_type": "markdown",
   "id": "d2e2257d",
   "metadata": {},
   "source": [
    "1. Create the list for the next diagram\n",
    "\n",
    "[<img src=\"https://files.realpython.com/media/t.08554d94a1e5.png\">](https://files.realpython.com/media/t.08554d94a1e5.png)\n",
    "\n",
    "<!---\n",
    "\n",
    "['a', ['bb', ['ccc', 'ddd'], 'ee', 'ff'], 'g', ['hh', 'ii'], 'j']\n",
    "--->"
   ]
  },
  {
   "cell_type": "markdown",
   "id": "70e5cebb",
   "metadata": {},
   "source": [
    "2. Implement some examples with methods such as\n",
    "    - ```append```\n",
    "    - ```upper```\n",
    "    - ```extend```\n",
    "    - ```insert```\n",
    "    - ```remove```\n",
    "    - ```pop```"
   ]
  },
  {
   "cell_type": "markdown",
   "id": "546f4750",
   "metadata": {},
   "source": [
    "3. Apply basic operations with tuples\n",
    "4. Create a Jupyter Notebook and solve this NB's questions.\n",
    "5. Submmit your report in Moodle. Template https://www.overleaf.com/read/xqcnnnrsspcp"
   ]
  },
  {
   "cell_type": "markdown",
   "id": "ccca25cf",
   "metadata": {},
   "source": [
    "## Versions"
   ]
  },
  {
   "cell_type": "code",
   "execution_count": 2,
   "id": "c529c837",
   "metadata": {},
   "outputs": [
    {
     "name": "stdout",
     "output_type": "stream",
     "text": [
      "python version:  3.9.1\n",
      "\u001b[33mYou are using pip version 9.0.1, however version 22.2.2 is available.\n",
      "You should consider upgrading via the 'pip install --upgrade pip' command.\u001b[0m\n"
     ]
    }
   ],
   "source": [
    "from platform import python_version\n",
    "print(\"python version: \", python_version())\n",
    "!pip3 freeze | grep qiskit"
   ]
  },
  {
   "cell_type": "markdown",
   "id": "220d01d1",
   "metadata": {},
   "source": [
    "# References <a name=\"references\"></a>"
   ]
  },
  {
   "cell_type": "markdown",
   "id": "82f2a41a",
   "metadata": {},
   "source": [
    "[1] https://realpython.com/python-lists-tuples/"
   ]
  }
 ],
 "metadata": {
  "kernelspec": {
   "display_name": "Python 3",
   "language": "python",
   "name": "python3"
  },
  "language_info": {
   "codemirror_mode": {
    "name": "ipython",
    "version": 3
   },
   "file_extension": ".py",
   "mimetype": "text/x-python",
   "name": "python",
   "nbconvert_exporter": "python",
   "pygments_lexer": "ipython3",
   "version": "3.7.4"
  },
  "vscode": {
   "interpreter": {
    "hash": "31f2aee4e71d21fbe5cf8b01ff0e069b9275f58929596ceb00d14d90e3e16cd6"
   }
  }
 },
 "nbformat": 4,
 "nbformat_minor": 5
}
