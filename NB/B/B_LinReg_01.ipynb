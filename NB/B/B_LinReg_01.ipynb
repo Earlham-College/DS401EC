{
 "cells": [
  {
   "cell_type": "markdown",
   "id": "ae40a970",
   "metadata": {},
   "source": [
    "# Statistics for Data Science [DS401]\n",
    "## File to Simple LR. Knowing data\n",
    "#### By: Javier Orduz\n",
    "\n",
    "[licenseBDG]: https://img.shields.io/badge/License-CC-orange?style=plastic\n",
    "[license]: https://creativecommons.org/licenses/by-nc-sa/3.0/deed.en\n",
    "\n",
    "[mywebsiteBDG]:https://img.shields.io/badge/website-jaorduz.github.io-0abeeb?style=plastic\n",
    "[mywebsite]: https://jaorduz.github.io/\n",
    "\n",
    "[mygithubBDG-jaorduz]: https://img.shields.io/badge/jaorduz-repos-blue?logo=github&label=jaorduz&style=plastic\n",
    "[mygithub-jaorduz]: https://github.com/jaorduz/\n",
    "\n",
    "[mygithubBDG-jaorduc]: https://img.shields.io/badge/jaorduc-repos-blue?logo=github&label=jaorduc&style=plastic \n",
    "[mygithub-jaorduc]: https://github.com/jaorduc/\n",
    "\n",
    "[myXprofileBDG]: https://img.shields.io/static/v1?label=Follow&message=jaorduc&color=2ea44f&style=plastic&logo=X&logoColor=black\n",
    "[myXprofile]:https://twitter.com/jaorduc\n",
    "\n",
    "\n",
    "[![website - jaorduz.github.io][mywebsiteBDG]][mywebsite]\n",
    "[![Github][mygithubBDG-jaorduz]][mygithub-jaorduz]\n",
    "[![Github][mygithubBDG-jaorduc]][mygithub-jaorduc]\n",
    "[![Follow @jaorduc][myXprofileBDG]][myXprofile]\n",
    "[![CC License][licenseBDG]][license]"
   ]
  },
  {
   "cell_type": "markdown",
   "id": "ee27432b",
   "metadata": {},
   "source": [
    "<h1>Contents</h1>\n",
    "\n",
    "<div class=\"alert  alert-block alert-info\" style=\"margin-top: 20px\">\n",
    "    <ol>\n",
    "        <li><a href=\"#unData\">Simpler Linear Regression. Knowing Data</a></li>\n",
    "         <!-- <ol>\n",
    "             <li><a href=\"#reData\">Reading</a></li>\n",
    "             <li><a href=\"#exData\">Exploration</a></li>\n",
    "         </ol> -->\n",
    "        <li><a href=\"#daExploration\">Querying</a></li>\n",
    "        <li><a href=\"#exercises\">Exercise</a></li>\n",
    "        <li><a href=\"#versions\">Versions</a></li>        \n",
    "        <li><a href=\"#references\">References</a></li>\n",
    "    </ol>\n",
    "</div>\n",
    "<br>\n",
    "<hr>\n",
    "\n",
    "<!-- ### <font color='blue'> Linear Regression </font> -->"
   ]
  },
  {
   "cell_type": "code",
   "execution_count": null,
   "id": "f30309ec",
   "metadata": {},
   "outputs": [],
   "source": [
    "import matplotlib.pyplot as plt\n",
    "import pandas as pd\n",
    "import pylab as pl\n",
    "import numpy as np\n",
    "%matplotlib inline"
   ]
  },
  {
   "cell_type": "markdown",
   "id": "f6ae8910",
   "metadata": {},
   "source": [
    "## Simpler Linear Regression. Knowing data"
   ]
  },
  {
   "cell_type": "markdown",
   "id": "addab589",
   "metadata": {},
   "source": [
    "Data source [0].\n",
    "Linear regression constitutes a seminal technique in statistics and data science, functioning both pragmatically and as a benchmark for sophisticated methods. The field of machine learning centers heavily around linear regression and its manifold variants, expounding core principles through their application. Thus, our objective is to elucidate the formulation and adaptation of linear regression, illuminating the fundamental mechanisms underpinning this ubiquitous methodology. By delving into this material, you will acquire the skills to:\n",
    "1. Appropriately fit models to encountered data sets.\n",
    "1. Conduct experiments employing diverse linear regression variants, allowing you to observe their impact.\n",
    "1. Gain insights into the technological foundations that underpin the functionality of regression models.\n",
    "\n",
    "This knowledge will empower you to navigate the intricacies of linear regression, fostering a deeper understanding of its utility and versatility in various data-driven contexts."
   ]
  },
  {
   "cell_type": "markdown",
   "id": "9866411a",
   "metadata": {},
   "source": [
    "### Linear Regression\n",
    "\n",
    "We first examine a toy problem, focusing our efforts on fitting a linear model to a small dataset with three observations.  Each observation consists of one predictor $x_i$ and one response $y_i$ for $i = 1, 2, 3$,\n",
    "\n",
    "\\begin{align*}\n",
    "\\big(x , y\\big) = \\big\\{(x_1, y_1), (x_2, y_2), (x_3, y_3)\\big\\}.\n",
    "\\end{align*}\n",
    "\n",
    "To be very concrete, let's set the values of the predictors and responses.\n",
    "\n",
    "\\begin{equation*}\n",
    "\\big(x , y\\big) = \\big\\{(1, 2), (2, 3), (3, 4)\\big\\}\n",
    "\\end{equation*}\n",
    "\n",
    "There is no line of the form $$\\beta_0 + \\beta_1 x = y$$ that passes through all three observations, since the data are not collinear. \n",
    "<!--\n",
    "Thus our aim is to find the line that best fits these observations in the *least-squares sense*, as discussed in lecture.\n",
    "-->"
   ]
  },
  {
   "cell_type": "markdown",
   "id": "bc026147",
   "metadata": {},
   "source": [
    "#### <font color='blue'> Example: Linear Regression </font>\n"
   ]
  },
  {
   "cell_type": "code",
   "execution_count": null,
   "id": "8d675ec9",
   "metadata": {},
   "outputs": [],
   "source": [
    "x_train = np.array([1,2,3])\n",
    "y_train = np.array([2,3,6])\n",
    "type(x_train)"
   ]
  },
  {
   "cell_type": "code",
   "execution_count": null,
   "id": "9484a843",
   "metadata": {},
   "outputs": [],
   "source": [
    "x_train.shape"
   ]
  },
  {
   "cell_type": "code",
   "execution_count": null,
   "id": "1ccb9008",
   "metadata": {},
   "outputs": [],
   "source": [
    "x_train=x_train.reshape(3,1)"
   ]
  },
  {
   "cell_type": "code",
   "execution_count": null,
   "id": "2e54e5d2",
   "metadata": {},
   "outputs": [],
   "source": [
    "x_train.shape"
   ]
  },
  {
   "cell_type": "code",
   "execution_count": null,
   "id": "215e6869",
   "metadata": {},
   "outputs": [],
   "source": [
    "plt.scatter(x_train, y_train)"
   ]
  },
  {
   "cell_type": "markdown",
   "id": "df7f313f",
   "metadata": {},
   "source": [
    "<h3>Dataframe</h3>\n",
    "\n",
    "<div class=\"alert  alert-block alert-info\" style=\"margin-top: 20px\">\n",
    "    A DataFrame represents a rectangular table of data and contains an ordered collection \n",
    "    of columns, each of which can be a different value type (numeric, string, boolean, etc.). \n",
    "    The DataFrame has both a row and column index; it can be thought of as a dict \n",
    "    of Series all sharing the same index. Under the hood, the data is stored as one or \n",
    "    more two-dimensional blocks rather than a list, dict, or some other collection of \n",
    "    one-dimensional arrays.\n",
    "</div>\n",
    "<br>\n",
    "<hr>"
   ]
  },
  {
   "cell_type": "code",
   "execution_count": null,
   "id": "afd1b1e6",
   "metadata": {},
   "outputs": [],
   "source": [
    "df = pd.read_csv(\"../../data/FuelConsumption.csv\")"
   ]
  },
  {
   "cell_type": "code",
   "execution_count": null,
   "id": "a8534ac2",
   "metadata": {},
   "outputs": [],
   "source": [
    "df.dtypes"
   ]
  },
  {
   "cell_type": "code",
   "execution_count": null,
   "id": "5708b617",
   "metadata": {},
   "outputs": [],
   "source": [
    "df.shape"
   ]
  },
  {
   "cell_type": "code",
   "execution_count": null,
   "id": "6d1fe9f3",
   "metadata": {},
   "outputs": [],
   "source": [
    "print(\"Number of rows =\", df.shape[0], \"\\nNumber of features (columns) =\",df.shape[1])"
   ]
  },
  {
   "cell_type": "code",
   "execution_count": null,
   "id": "67581253",
   "metadata": {},
   "outputs": [],
   "source": [
    "df.columns"
   ]
  },
  {
   "cell_type": "code",
   "execution_count": null,
   "id": "46bd4dc8",
   "metadata": {},
   "outputs": [],
   "source": [
    "type(df)"
   ]
  },
  {
   "cell_type": "code",
   "execution_count": null,
   "id": "13355727",
   "metadata": {},
   "outputs": [],
   "source": [
    "df.head()"
   ]
  },
  {
   "cell_type": "code",
   "execution_count": null,
   "id": "84cdf7e2",
   "metadata": {},
   "outputs": [],
   "source": [
    "df.head(7)"
   ]
  },
  {
   "cell_type": "code",
   "execution_count": null,
   "id": "7c24b79e",
   "metadata": {},
   "outputs": [],
   "source": [
    "df.describe()"
   ]
  },
  {
   "cell_type": "markdown",
   "id": "b8058e3a",
   "metadata": {},
   "source": [
    "## Querying\n",
    "\n",
    "Note, pandas considers a table (dataframe) as a pasting of many \"series\" together, horizontally."
   ]
  },
  {
   "cell_type": "code",
   "execution_count": null,
   "id": "5ba0f94c",
   "metadata": {},
   "outputs": [],
   "source": [
    "type(df.MODELYEAR), type(df)"
   ]
  },
  {
   "cell_type": "code",
   "execution_count": null,
   "id": "6e1fb845",
   "metadata": {},
   "outputs": [],
   "source": [
    "df.ENGINESIZE <= 2"
   ]
  },
  {
   "cell_type": "code",
   "execution_count": null,
   "id": "1eec6092",
   "metadata": {},
   "outputs": [],
   "source": [
    "SumEng = np.sum(df.ENGINESIZE <= 2)\n",
    "SumEng"
   ]
  },
  {
   "cell_type": "code",
   "execution_count": null,
   "id": "e7d62d32",
   "metadata": {},
   "outputs": [],
   "source": [
    "SumEngTotal = np.sum(df.ENGINESIZE <= 2)/df.shape[0]\n",
    "SumEngTotal"
   ]
  },
  {
   "cell_type": "code",
   "execution_count": null,
   "id": "ab59f8a2",
   "metadata": {},
   "outputs": [],
   "source": [
    "MeanTotal = np.mean(df.ENGINESIZE <= 2.0)\n",
    "MeanTotal"
   ]
  },
  {
   "cell_type": "code",
   "execution_count": null,
   "id": "53b41e28",
   "metadata": {},
   "outputs": [],
   "source": [
    "EngMean = (df.ENGINESIZE <= 2).mean()\n",
    "EngMean"
   ]
  },
  {
   "cell_type": "code",
   "execution_count": null,
   "id": "cb4a6ecf",
   "metadata": {},
   "outputs": [],
   "source": [
    "AverageEng = np.average(df.ENGINESIZE <= 2.0)\n",
    "AverageEng"
   ]
  },
  {
   "cell_type": "markdown",
   "id": "7fb9e5c5",
   "metadata": {},
   "source": [
    "##  Exercises"
   ]
  },
  {
   "cell_type": "markdown",
   "id": "89fdf2d9",
   "metadata": {},
   "source": [
    "1. Why previous outputs are same?\n",
    "1. Call another data base, and repeat commands (adjusting to the new variables) on this NB with the new data base.\n",
    "1. Use at least four or more features and calculate: average, mean, median, sum, and implement at least three more statistics functions. Check the ```numpy``` and ```pandas``` documentation.\n",
    "<!-- 1. Submmit your report in Moodle. Template https://www.overleaf.com/read/xqcnnnrsspcp -->"
   ]
  },
  {
   "cell_type": "markdown",
   "id": "5405fd17",
   "metadata": {},
   "source": [
    "## Versions"
   ]
  },
  {
   "cell_type": "code",
   "execution_count": null,
   "id": "1a210548",
   "metadata": {},
   "outputs": [],
   "source": [
    "from platform import python_version\n",
    "print(\"python version: \", python_version())"
   ]
  },
  {
   "cell_type": "markdown",
   "id": "1836a9f2",
   "metadata": {},
   "source": [
    "# References"
   ]
  },
  {
   "cell_type": "markdown",
   "id": "17c11012",
   "metadata": {},
   "source": [
    "[0] data https://tinyurl.com/2m3vr2xp\n",
    "\n",
    "[1] numpy https://numpy.org/\n",
    "\n",
    "[2] scipy https://docs.scipy.org/\n",
    "\n",
    "[3] matplotlib https://matplotlib.org/\n",
    "\n",
    "[4] matplotlib.cm https://matplotlib.org/stable/api/cm_api.html\n",
    "\n",
    "[5] matplotlib.pyplot https://matplotlib.org/stable/api/pyplot_summary.html\n",
    "\n",
    "[6] pandas https://pandas.pydata.org/docs/\n",
    "\n",
    "[7] seaborn https://seaborn.pydata.org/\n"
   ]
  }
 ],
 "metadata": {
  "kernelspec": {
   "display_name": "Python 3 (ipykernel)",
   "language": "python",
   "name": "python3"
  },
  "language_info": {
   "codemirror_mode": {
    "name": "ipython",
    "version": 3
   },
   "file_extension": ".py",
   "mimetype": "text/x-python",
   "name": "python",
   "nbconvert_exporter": "python",
   "pygments_lexer": "ipython3",
   "version": "3.11.7"
  },
  "vscode": {
   "interpreter": {
    "hash": "31f2aee4e71d21fbe5cf8b01ff0e069b9275f58929596ceb00d14d90e3e16cd6"
   }
  }
 },
 "nbformat": 4,
 "nbformat_minor": 5
}
