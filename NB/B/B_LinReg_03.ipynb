{
 "cells": [
  {
   "cell_type": "markdown",
   "id": "367e399e",
   "metadata": {},
   "source": [
    "# Statistics for Data Science [DS401]\n",
    "## Selecting features\n",
    "#### By: Javier Orduz\n",
    "\n",
    "[licenseBDG]: https://img.shields.io/badge/License-CC-orange?style=plastic\n",
    "[license]: https://creativecommons.org/licenses/by-nc-sa/3.0/deed.en\n",
    "\n",
    "[mywebsiteBDG]:https://img.shields.io/badge/website-jaorduz.github.io-0abeeb?style=plastic\n",
    "[mywebsite]: https://jaorduz.github.io/\n",
    "\n",
    "[mygithubBDG-jaorduz]: https://img.shields.io/badge/jaorduz-repos-blue?logo=github&label=jaorduz&style=plastic\n",
    "[mygithub-jaorduz]: https://github.com/jaorduz/\n",
    "\n",
    "[mygithubBDG-jaorduc]: https://img.shields.io/badge/jaorduc-repos-blue?logo=github&label=jaorduc&style=plastic \n",
    "[mygithub-jaorduc]: https://github.com/jaorduc/\n",
    "\n",
    "[myXprofileBDG]: https://img.shields.io/static/v1?label=Follow&message=jaorduc&color=2ea44f&style=plastic&logo=X&logoColor=black\n",
    "[myXprofile]:https://twitter.com/jaorduc\n",
    "\n",
    "\n",
    "[![website - jaorduz.github.io][mywebsiteBDG]][mywebsite]\n",
    "[![Github][mygithubBDG-jaorduz]][mygithub-jaorduz]\n",
    "[![Github][mygithubBDG-jaorduc]][mygithub-jaorduc]\n",
    "[![Follow @jaorduc][myXprofileBDG]][myXprofile]\n",
    "[![CC License][licenseBDG]][license]"
   ]
  },
  {
   "cell_type": "markdown",
   "id": "968111d6",
   "metadata": {},
   "source": [
    "<h1>Table of contents</h1>\n",
    "\n",
    "<div class=\"alert  alert-block alert-info\" style=\"margin-top: 20px\">\n",
    "    <ol>\n",
    "        <li><a href=\"#unData\">Data</a></li>\n",
    "         <!-- <ol>\n",
    "             <li><a href=\"#reData\">Reading</a></li>\n",
    "             <li><a href=\"#exData\">Exploration</a></li>\n",
    "         </ol> -->\n",
    "        <li><a href=\"#daExploration\">Querying</a></li>\n",
    "        <li><a href=\"#daExploration\">Selecting features and making plots</a></li>\n",
    "        <li><a href=\"#exercises\">Exercises</a></li>\n",
    "        <li><a href=\"#versions\">Versions</a></li>\n",
    "        <li><a href=\"#references\">References</a></li>        \n",
    "    </ol>\n",
    "</div>\n",
    "<br>\n",
    "<hr>"
   ]
  },
  {
   "cell_type": "code",
   "execution_count": null,
   "id": "0d9e0c8b",
   "metadata": {},
   "outputs": [],
   "source": [
    "import matplotlib.pyplot as plt\n",
    "import pandas as pd\n",
    "import pylab as pl\n",
    "import numpy as np\n",
    "%matplotlib inline"
   ]
  },
  {
   "cell_type": "markdown",
   "id": "0db6ed4d",
   "metadata": {},
   "source": [
    "\n",
    "<h2 id=\"unData\">Data</h2>\n",
    "\n",
    "### `titanic3.csv`:\n",
    "\n",
    "This dataset contains a model-specific fuel consumption ratings and estimated carbon dioxide \n",
    "emissions for new light-duty vehicles for retail sale in Canada.\n",
    "\n",
    "Some **features** are\n",
    "\n",
    "- **survived** e.g. 1 or 0\n"
   ]
  },
  {
   "cell_type": "code",
   "execution_count": null,
   "id": "e4f5c139",
   "metadata": {},
   "outputs": [],
   "source": [
    "df = pd.read_csv(\"../../data/titanic3.csv\")"
   ]
  },
  {
   "cell_type": "code",
   "execution_count": null,
   "id": "f958e2e3",
   "metadata": {},
   "outputs": [],
   "source": [
    "df.dtypes"
   ]
  },
  {
   "cell_type": "code",
   "execution_count": null,
   "id": "348bfcba",
   "metadata": {},
   "outputs": [],
   "source": [
    "df.shape"
   ]
  },
  {
   "cell_type": "code",
   "execution_count": null,
   "id": "e85156de",
   "metadata": {},
   "outputs": [],
   "source": [
    "print(\"Number of rows =\", df.shape[0], \"\\nNumber of features (columns) =\",df.shape[1])"
   ]
  },
  {
   "cell_type": "code",
   "execution_count": null,
   "id": "235cd13f",
   "metadata": {},
   "outputs": [],
   "source": [
    "df.columns"
   ]
  },
  {
   "cell_type": "code",
   "execution_count": null,
   "id": "acdb4c63",
   "metadata": {},
   "outputs": [],
   "source": [
    "type(df)"
   ]
  },
  {
   "cell_type": "code",
   "execution_count": null,
   "id": "6f5b7ca9",
   "metadata": {},
   "outputs": [],
   "source": [
    "df.head(7)"
   ]
  },
  {
   "cell_type": "code",
   "execution_count": null,
   "id": "15c7face",
   "metadata": {},
   "outputs": [],
   "source": [
    "df.describe()"
   ]
  },
  {
   "cell_type": "markdown",
   "id": "68ff8040",
   "metadata": {
    "jp-MarkdownHeadingCollapsed": true
   },
   "source": [
    "## Querying\n",
    "\n",
    "Note, pandas considers a table (dataframe) as a pasting of many \"series\" together, horizontally."
   ]
  },
  {
   "cell_type": "code",
   "execution_count": null,
   "id": "8a8f2c12",
   "metadata": {},
   "outputs": [],
   "source": [
    "type(df.survived), type(df)"
   ]
  },
  {
   "cell_type": "code",
   "execution_count": null,
   "id": "144559ec",
   "metadata": {},
   "outputs": [],
   "source": [
    "df.survived == 1"
   ]
  },
  {
   "cell_type": "markdown",
   "id": "33ee238d-0faf-4048-80fb-1dd47d70af0a",
   "metadata": {},
   "source": [
    "## Selecting features and making plots"
   ]
  },
  {
   "cell_type": "code",
   "execution_count": null,
   "id": "82ab1b82-1854-483e-a48c-7c2687969e2c",
   "metadata": {},
   "outputs": [],
   "source": [
    "Seldf = df[['pclass','survived','sibsp','parch']]"
   ]
  },
  {
   "cell_type": "code",
   "execution_count": null,
   "id": "599922cc-9bac-41f3-8a7c-a69ab339d2a5",
   "metadata": {},
   "outputs": [],
   "source": [
    "Seldf.head(5)"
   ]
  },
  {
   "cell_type": "code",
   "execution_count": null,
   "id": "ba9b0bc0-4ee2-4ff7-8f31-85185aed261e",
   "metadata": {},
   "outputs": [],
   "source": [
    "Seldf.dtypes"
   ]
  },
  {
   "cell_type": "code",
   "execution_count": null,
   "id": "e180c0be-dff0-4683-8988-2ce69f232b57",
   "metadata": {},
   "outputs": [],
   "source": [
    "SeldfHistogram = Seldf[['pclass','survived','sibsp','parch']]"
   ]
  },
  {
   "cell_type": "code",
   "execution_count": null,
   "id": "0967bf45-fb62-4401-9800-de7848e7ea41",
   "metadata": {},
   "outputs": [],
   "source": [
    "SeldfHistogram.hist(facecolor='g', alpha=0.75)\n",
    "plt.grid(True)\n",
    "plt.show()"
   ]
  },
  {
   "cell_type": "markdown",
   "id": "b1d730cc",
   "metadata": {},
   "source": [
    "##  Exercises"
   ]
  },
  {
   "cell_type": "markdown",
   "id": "34f30709",
   "metadata": {},
   "source": [
    "1. Use at least four more features and calculate: average, mean, median, sum, and implement at least three more statistics functions. Check the ```numpy``` documentation. Different to previous implementations.\n",
    "1. Plot **Atribute A** vs **atribute B**, to see how linear is their relationship.\n",
    "1. Use ```matplotlib``` documentation, and implement different parameters to get a beatiful plot. Different to previous NB\n",
    "1. Create the scatter plot\n",
    "1. Implement a new different Library, such as ```seaborn```\n",
    "<!-- 1. Submmit your report in Moodle. Template https://www.overleaf.com/read/xqcnnnrsspcp -->"
   ]
  },
  {
   "cell_type": "markdown",
   "id": "7099dc9c",
   "metadata": {},
   "source": [
    "## Versions"
   ]
  },
  {
   "cell_type": "code",
   "execution_count": null,
   "id": "a0a23391",
   "metadata": {},
   "outputs": [],
   "source": [
    "from platform import python_version\n",
    "print(\"python version: \", python_version())"
   ]
  },
  {
   "cell_type": "markdown",
   "id": "dfba346a",
   "metadata": {},
   "source": [
    "# References"
   ]
  },
  {
   "cell_type": "markdown",
   "id": "2fe56648",
   "metadata": {},
   "source": [
    "[0] data https://tinyurl.com/2m3vr2xp\n",
    "\n",
    "[1] numpy https://numpy.org/\n",
    "\n",
    "[2] scipy https://docs.scipy.org/\n",
    "\n",
    "[3] matplotlib https://matplotlib.org/\n",
    "\n",
    "[4] matplotlib.cm https://matplotlib.org/stable/api/cm_api.html\n",
    "\n",
    "[5] matplotlib.pyplot https://matplotlib.org/stable/api/pyplot_summary.html\n",
    "\n",
    "[6] pandas https://pandas.pydata.org/docs/\n",
    "\n",
    "[7] seaborn https://seaborn.pydata.org/\n"
   ]
  },
  {
   "cell_type": "code",
   "execution_count": null,
   "id": "dde69361",
   "metadata": {},
   "outputs": [],
   "source": []
  }
 ],
 "metadata": {
  "kernelspec": {
   "display_name": "Python 3 (ipykernel)",
   "language": "python",
   "name": "python3"
  },
  "language_info": {
   "codemirror_mode": {
    "name": "ipython",
    "version": 3
   },
   "file_extension": ".py",
   "mimetype": "text/x-python",
   "name": "python",
   "nbconvert_exporter": "python",
   "pygments_lexer": "ipython3",
   "version": "3.11.7"
  },
  "vscode": {
   "interpreter": {
    "hash": "31f2aee4e71d21fbe5cf8b01ff0e069b9275f58929596ceb00d14d90e3e16cd6"
   }
  }
 },
 "nbformat": 4,
 "nbformat_minor": 5
}
