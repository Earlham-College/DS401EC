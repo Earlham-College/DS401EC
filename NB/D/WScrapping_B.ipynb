{
 "cells": [
  {
   "cell_type": "markdown",
   "id": "2bd7dd63-41ae-4d54-af19-d2f8ce7e0673",
   "metadata": {},
   "source": [
    "# Statistics for Data Science [DS401]\n",
    "## Web Scrapping\n",
    "#### By: Javier Orduz\n",
    "\n",
    "[licenseBDG]: https://img.shields.io/badge/License-CC-orange?style=plastic\n",
    "[license]: https://creativecommons.org/licenses/by-nc-sa/3.0/deed.en\n",
    "\n",
    "[mywebsiteBDG]:https://img.shields.io/badge/website-jaorduz.github.io-0abeeb?style=plastic\n",
    "[mywebsite]: https://jaorduz.github.io/\n",
    "\n",
    "[mygithubBDG-jaorduz]: https://img.shields.io/badge/jaorduz-repos-blue?logo=github&label=jaorduz&style=plastic\n",
    "[mygithub-jaorduz]: https://github.com/jaorduz/\n",
    "\n",
    "[mygithubBDG-jaorduc]: https://img.shields.io/badge/jaorduc-repos-blue?logo=github&label=jaorduc&style=plastic \n",
    "[mygithub-jaorduc]: https://github.com/jaorduc/\n",
    "\n",
    "[myXprofileBDG]: https://img.shields.io/static/v1?label=Follow&message=jaorduc&color=2ea44f&style=plastic&logo=X&logoColor=black\n",
    "[myXprofile]:https://twitter.com/jaorduc\n",
    "\n",
    "\n",
    "[![website - jaorduz.github.io][mywebsiteBDG]][mywebsite]\n",
    "[![Github][mygithubBDG-jaorduz]][mygithub-jaorduz]\n",
    "[![Github][mygithubBDG-jaorduc]][mygithub-jaorduc]\n",
    "[![Follow @jaorduc][myXprofileBDG]][myXprofile]\n",
    "[![CC License][licenseBDG]][license]"
   ]
  },
  {
   "cell_type": "markdown",
   "id": "caf2f90f-a597-466b-9512-8335991e68e8",
   "metadata": {},
   "source": [
    "<h1>Contents</h1>\n",
    "<div class=\"alert  alert-block alert-info\" style=\"margin-top: 1px\">\n",
    "    <ol>\n",
    "        <li><a href=\"#section1\">Section 1</a></li>\n",
    "        <li><a href=\"#section2\">Section 2</a></li>\n",
    "        <li><a href=\"#section3\">Section 3</a></li>\n",
    "        <li><a href=\"#references\">References</a></li>\n",
    "    </ol>\n",
    "</div>\n",
    "<br>\n",
    "<hr>"
   ]
  },
  {
   "cell_type": "markdown",
   "id": "09c302ea-9703-4c47-80d8-eda08133f466",
   "metadata": {},
   "source": [
    "# Section\n",
    "1. Create your own lab about **Web Scrapping**, with three sections, and two exercises with solutions. Add the references and implement different methods, functions, databases, websites, and new material.\n",
    "2. Prepare a presentation with at least ten (15) slides, and explain in more detail all the different concepts you implemented in this mini lab.\n",
    "3. Put the process you followed to install any necessary package/module. Put everything in a repository, and use markdown, LaTeX, HTML, or other markup language to format your text."
   ]
  },
  {
   "cell_type": "markdown",
   "id": "deb4e0d7-bc4c-42a4-91d5-a30e193a3ffd",
   "metadata": {},
   "source": [
    "# References\n",
    "[1] "
   ]
  }
 ],
 "metadata": {
  "kernelspec": {
   "display_name": "Python 3 (ipykernel)",
   "language": "python",
   "name": "python3"
  },
  "language_info": {
   "codemirror_mode": {
    "name": "ipython",
    "version": 3
   },
   "file_extension": ".py",
   "mimetype": "text/x-python",
   "name": "python",
   "nbconvert_exporter": "python",
   "pygments_lexer": "ipython3",
   "version": "3.11.8"
  }
 },
 "nbformat": 4,
 "nbformat_minor": 5
}
