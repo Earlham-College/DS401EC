{
 "cells": [
  {
   "cell_type": "code",
   "execution_count": null,
   "id": "bcdc4ca4-12c3-4bc4-950a-43bd69b0de0f",
   "metadata": {},
   "outputs": [],
   "source": [
    "from sympy import *\n",
    "init_printing(use_unicode=False)"
   ]
  },
  {
   "cell_type": "code",
   "execution_count": null,
   "id": "ff0081d0-6cb2-4187-a154-8833929a4c3b",
   "metadata": {},
   "outputs": [],
   "source": [
    "x = Symbol('x')"
   ]
  },
  {
   "cell_type": "code",
   "execution_count": null,
   "id": "0cb1131d-c253-4dbb-9a54-58fb1d276310",
   "metadata": {},
   "outputs": [],
   "source": [
    "FuncPoly=integrate(x**2+x+1,x)"
   ]
  },
  {
   "cell_type": "code",
   "execution_count": null,
   "id": "768a223f-ff68-476e-b602-a4cf56ca8f60",
   "metadata": {},
   "outputs": [],
   "source": [
    "FuncPoly"
   ]
  },
  {
   "cell_type": "code",
   "execution_count": null,
   "id": "8946906d-60f1-475e-b6f1-2abe2bd19d29",
   "metadata": {},
   "outputs": [],
   "source": []
  }
 ],
 "metadata": {
  "kernelspec": {
   "display_name": "Python 3 (ipykernel)",
   "language": "python",
   "name": "python3"
  },
  "language_info": {
   "codemirror_mode": {
    "name": "ipython",
    "version": 3
   },
   "file_extension": ".py",
   "mimetype": "text/x-python",
   "name": "python",
   "nbconvert_exporter": "python",
   "pygments_lexer": "ipython3",
   "version": "3.11.7"
  }
 },
 "nbformat": 4,
 "nbformat_minor": 5
}
