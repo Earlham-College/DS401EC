{
 "cells": [
  {
   "cell_type": "code",
   "execution_count": 38,
   "id": "797f39d1-f542-4e29-9eb3-4c89d457dc11",
   "metadata": {},
   "outputs": [],
   "source": [
    "import math\n",
    "mu = 1500\n",
    "x = 1800\n",
    "sigma = 300\n",
    "\n",
    "ct =  1/(sigma*(2*3.14)**0.5)"
   ]
  },
  {
   "cell_type": "code",
   "execution_count": 39,
   "id": "cb5b2a25-3b94-4b58-b95e-f0d0dbda1336",
   "metadata": {},
   "outputs": [
    {
     "data": {
      "text/plain": [
       "1.0"
      ]
     },
     "execution_count": 39,
     "metadata": {},
     "output_type": "execute_result"
    }
   ],
   "source": [
    "zscore = (x-mu)/sigma\n",
    "zscore"
   ]
  },
  {
   "cell_type": "code",
   "execution_count": 40,
   "id": "a3eadc38-87c5-4f00-8ab0-33ee27fd8139",
   "metadata": {},
   "outputs": [
    {
     "data": {
      "text/plain": [
       "0.6065306597126334"
      ]
     },
     "execution_count": 40,
     "metadata": {},
     "output_type": "execute_result"
    }
   ],
   "source": [
    "pow(math.e, -zscore**2/2)"
   ]
  },
  {
   "cell_type": "code",
   "execution_count": 41,
   "id": "9c862ec7-a85b-4b4a-b92b-09d9bc936380",
   "metadata": {},
   "outputs": [
    {
     "data": {
      "text/plain": [
       "0.0008067736075735785"
      ]
     },
     "execution_count": 41,
     "metadata": {},
     "output_type": "execute_result"
    }
   ],
   "source": [
    "ct*pow(math.e, -zscore**2/2)"
   ]
  },
  {
   "cell_type": "code",
   "execution_count": null,
   "id": "62233ded-8a5c-42f4-9dd7-8606b776edb4",
   "metadata": {},
   "outputs": [],
   "source": []
  }
 ],
 "metadata": {
  "kernelspec": {
   "display_name": "Python 3.7",
   "language": "python",
   "name": "py37"
  },
  "language_info": {
   "codemirror_mode": {
    "name": "ipython",
    "version": 3
   },
   "file_extension": ".py",
   "mimetype": "text/x-python",
   "name": "python",
   "nbconvert_exporter": "python",
   "pygments_lexer": "ipython3",
   "version": "3.7.16"
  }
 },
 "nbformat": 4,
 "nbformat_minor": 5
}
