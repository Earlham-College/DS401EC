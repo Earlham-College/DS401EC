{
 "cells": [
  {
   "cell_type": "code",
   "execution_count": 33,
   "id": "bcdc4ca4-12c3-4bc4-950a-43bd69b0de0f",
   "metadata": {},
   "outputs": [],
   "source": [
    "from sympy import *\n",
    "init_printing(use_unicode=False)"
   ]
  },
  {
   "cell_type": "code",
   "execution_count": 34,
   "id": "ff0081d0-6cb2-4187-a154-8833929a4c3b",
   "metadata": {},
   "outputs": [],
   "source": [
    "x = Symbol('x')"
   ]
  },
  {
   "cell_type": "code",
   "execution_count": 5,
   "id": "0cb1131d-c253-4dbb-9a54-58fb1d276310",
   "metadata": {},
   "outputs": [],
   "source": [
    "FuncPoly=integrate(x**2+x+1,x)"
   ]
  },
  {
   "cell_type": "code",
   "execution_count": 6,
   "id": "768a223f-ff68-476e-b602-a4cf56ca8f60",
   "metadata": {},
   "outputs": [
    {
     "data": {
      "image/png": "[encoded data removed]",
      "text/latex": [
       "$\\displaystyle \\frac{x^{3}}{3} + \\frac{x^{2}}{2} + x$"
      ],
      "text/plain": [
       " 3    2    \n",
       "x    x     \n",
       "-- + -- + x\n",
       "3    2     "
      ]
     },
     "execution_count": 6,
     "metadata": {},
     "output_type": "execute_result"
    }
   ],
   "source": [
    "FuncPoly"
   ]
  },
  {
   "cell_type": "code",
   "execution_count": 49,
   "id": "d1b58a16-a58d-4f1c-b8dd-28692d5235ab",
   "metadata": {},
   "outputs": [],
   "source": [
    "import math\n",
    "eulern=round(math.e)"
   ]
  },
  {
   "cell_type": "code",
   "execution_count": 52,
   "id": "6bed7bdf-dd05-4e04-ade7-0d32786de615",
   "metadata": {},
   "outputs": [],
   "source": [
    "fac = round(1/(sqrt(2*3.14)),3)"
   ]
  },
  {
   "cell_type": "code",
   "execution_count": 53,
   "id": "9d0e3c0a-6bb6-44e0-b2a7-ee484ab4cf0d",
   "metadata": {},
   "outputs": [],
   "source": [
    "FuncExp=fac*integrate(eulern**(-x**2/2),(x,-21,2))"
   ]
  },
  {
   "cell_type": "code",
   "execution_count": 54,
   "id": "8e6c1e65-45b2-40a9-aace-cc80a8a7c4c6",
   "metadata": {},
   "outputs": [
    {
     "data": {
      "image/png": "[encoded data removed]",
      "text/latex": [
       "$\\displaystyle 0.399 \\int\\limits_{-21}^{2} 3^{- \\frac{x^{2}}{2}}\\, dx$"
      ],
      "text/plain": [
       "        2         \n",
       "        /         \n",
       "       |          \n",
       "       |     2    \n",
       "       |   -x     \n",
       "       |   ----   \n",
       "       |    2     \n",
       "0.399* |  3     dx\n",
       "       |          \n",
       "      /           \n",
       "      -21         "
      ]
     },
     "execution_count": 54,
     "metadata": {},
     "output_type": "execute_result"
    }
   ],
   "source": [
    "FuncExp"
   ]
  },
  {
   "cell_type": "code",
   "execution_count": null,
   "id": "2ab4fb04-9f0b-43c3-afea-8a846032071e",
   "metadata": {},
   "outputs": [],
   "source": []
  }
 ],
 "metadata": {
  "kernelspec": {
   "display_name": "Python 3 (ipykernel)",
   "language": "python",
   "name": "python3"
  },
  "language_info": {
   "codemirror_mode": {
    "name": "ipython",
    "version": 3
   },
   "file_extension": ".py",
   "mimetype": "text/x-python",
   "name": "python",
   "nbconvert_exporter": "python",
   "pygments_lexer": "ipython3",
   "version": "3.11.7"
  }
 },
 "nbformat": 4,
 "nbformat_minor": 5
}
