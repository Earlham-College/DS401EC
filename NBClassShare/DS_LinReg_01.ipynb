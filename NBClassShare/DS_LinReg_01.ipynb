{
 "cells": [
  {
   "cell_type": "markdown",
   "id": "0d1dc059",
   "metadata": {},
   "source": [
    "# File to Simple LR\n",
    "\n",
    "#### By: Javier Orduz\n",
    "[license-badge]: https://img.shields.io/badge/License-CC-orange\n",
    "[license]: https://creativecommons.org/licenses/by-nc-sa/3.0/deed.en\n",
    "[![CC License][license-badge]][license]\n",
    "[![DS](https://img.shields.io/badge/downloads-DS-green)](https://github.com/Earlham-College/DS_Fall_2022)\n",
    "[![Github](https://img.shields.io/badge/jaorduz-repos-blue)](https://github.com/jaorduz/)\n",
    "[![Github](https://img.shields.io/badge/jaorduc-repos-blue)](https://github.com/jaorduc/)\n",
    "![Follow @jaorduc](https://img.shields.io/twitter/follow/jaorduc?label=follow&logo=twitter&logoColor=lkj&style=plastic)\n"
   ]
  },
  {
   "cell_type": "markdown",
   "id": "474977d8",
   "metadata": {},
   "source": [
    "<h1>Table of contents</h1>\n",
    "\n",
    "<div class=\"alert  alert-block alert-info\" style=\"margin-top: 20px\">\n",
    "    <ol>\n",
    "        <li><a href=\"#unData\">Data</a></li>\n",
    "         <ol>\n",
    "             <li><a href=\"#reData\">Reading</a></li>\n",
    "             <li><a href=\"#exData\">Exploration</a></li>\n",
    "         </ol>\n",
    "        <li><a href=\"#daExploration\">Data Exploration</a></li>\n",
    "        <li><a href=\"#simRegression\">Simple Regression Model</a></li>\n",
    "    </ol>\n",
    "</div>\n",
    "<br>\n",
    "<hr>"
   ]
  },
  {
   "cell_type": "markdown",
   "id": "6c0d420c",
   "metadata": {},
   "source": [
    "# Exercise 1\n",
    "Import the modules, packages and Libraries"
   ]
  },
  {
   "cell_type": "code",
   "execution_count": null,
   "id": "7bcb8672",
   "metadata": {},
   "outputs": [],
   "source": [
    "import matplotlib.pyplot as plt\n",
    "import pandas as pd\n",
    "import pylab as pl\n",
    "import numpy as np\n",
    "import seaborn as sns\n",
    "%matplotlib inline \n",
    "%config InlineBackend.figure_format = 'retina'"
   ]
  },
  {
   "cell_type": "markdown",
   "id": "ceb0bb17",
   "metadata": {},
   "source": [
    "# Exercise 2\n",
    "Call the data set\n",
    "``` /DAT/mlb11.csv```"
   ]
  },
  {
   "cell_type": "code",
   "execution_count": null,
   "id": "6be36974",
   "metadata": {},
   "outputs": [],
   "source": [
    "f\"your code here\""
   ]
  },
  {
   "cell_type": "markdown",
   "id": "2aaf690c",
   "metadata": {},
   "source": [
    "# Exercise 3\n",
    "Use different commands to know the data"
   ]
  },
  {
   "cell_type": "code",
   "execution_count": null,
   "id": "bea9b935",
   "metadata": {},
   "outputs": [],
   "source": [
    "f\"your code here\""
   ]
  },
  {
   "cell_type": "code",
   "execution_count": null,
   "id": "45a5ba73",
   "metadata": {},
   "outputs": [],
   "source": [
    "f\"your code here\""
   ]
  },
  {
   "cell_type": "code",
   "execution_count": null,
   "id": "53aabc5a",
   "metadata": {},
   "outputs": [],
   "source": [
    "f\"your code here\""
   ]
  },
  {
   "cell_type": "code",
   "execution_count": null,
   "id": "cece7ae1",
   "metadata": {},
   "outputs": [],
   "source": [
    "f\"Example\"\n",
    "dataFrame.describe()"
   ]
  },
  {
   "cell_type": "markdown",
   "id": "15dfda39",
   "metadata": {},
   "source": [
    "Percentile meaning: how many of the values are less than the given percentile. \n",
    "- 25% means, for example,  25% of the values of runs are less than 629\n",
    "- 50% means, for example, 50% of the values of runs are less than 705\n",
    "- 75% means, for example, 75% of the values of runs are less than 734\n"
   ]
  },
  {
   "cell_type": "markdown",
   "id": "c1d9c8b8",
   "metadata": {},
   "source": [
    "\n",
    "# Exercise 4\n",
    "\n",
    "Plot the relationship between ```runs``` and ```at_bats``` using the variable ```at_bats``` as the predictor and respond the following questions:\n",
    "\n",
    "1. Does the relationship look linear?\n",
    "\n",
    "1.  If you knew a team's at_bats, Would you be comfortable using a linear model to predict the number of runs?\n",
    "\n",
    "1.  What type of plot would you use to display the relationship between runs and one of the other numerical variables? "
   ]
  },
  {
   "cell_type": "code",
   "execution_count": null,
   "id": "83adb50e",
   "metadata": {},
   "outputs": [],
   "source": [
    "f\"your code here\""
   ]
  },
  {
   "cell_type": "markdown",
   "id": "c9c138a6",
   "metadata": {},
   "source": [
    "# Exercise 5\n",
    "\n",
    "Find the correlation coefficient between ```runs``` and ```at_bats```. Explain the result. You can use pandas methods or functions, such as ```corr```.\n",
    "\n",
    "<!--If the relationship looks linear, we can quantify the strength of the relationship with the correlation coefficient.-->"
   ]
  },
  {
   "cell_type": "code",
   "execution_count": null,
   "id": "610a04bc",
   "metadata": {},
   "outputs": [],
   "source": [
    "f\"your code here\""
   ]
  },
  {
   "cell_type": "markdown",
   "id": "390cf480",
   "metadata": {},
   "source": [
    "## Versions"
   ]
  },
  {
   "cell_type": "code",
   "execution_count": null,
   "id": "b76b81c2",
   "metadata": {},
   "outputs": [],
   "source": [
    "from platform import python_version\n",
    "print(\"python version: \", python_version())\n",
    "!pip3 freeze | grep qiskit"
   ]
  },
  {
   "cell_type": "markdown",
   "id": "57a0357d",
   "metadata": {},
   "source": [
    "# References"
   ]
  },
  {
   "cell_type": "markdown",
   "id": "5744f5eb",
   "metadata": {},
   "source": [
    "[0] data https://tinyurl.com/2m3vr2xp\n",
    "\n",
    "[1] numpy https://numpy.org/\n",
    "\n",
    "[2] scipy https://docs.scipy.org/\n",
    "\n",
    "[3] matplotlib https://matplotlib.org/\n",
    "\n",
    "[4] matplotlib.cm https://matplotlib.org/stable/api/cm_api.html\n",
    "\n",
    "[5] matplotlib.pyplot https://matplotlib.org/stable/api/pyplot_summary.html\n",
    "\n",
    "[6] pandas https://pandas.pydata.org/docs/\n",
    "\n",
    "[7] seaborn https://seaborn.pydata.org/\n"
   ]
  }
 ],
 "metadata": {
  "kernelspec": {
   "display_name": "Python 3",
   "language": "python",
   "name": "python3"
  },
  "language_info": {
   "codemirror_mode": {
    "name": "ipython",
    "version": 3
   },
   "file_extension": ".py",
   "mimetype": "text/x-python",
   "name": "python",
   "nbconvert_exporter": "python",
   "pygments_lexer": "ipython3",
   "version": "3.7.4"
  },
  "vscode": {
   "interpreter": {
    "hash": "31f2aee4e71d21fbe5cf8b01ff0e069b9275f58929596ceb00d14d90e3e16cd6"
   }
  }
 },
 "nbformat": 4,
 "nbformat_minor": 5
}
