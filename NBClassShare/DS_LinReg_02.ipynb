{
 "cells": [
  {
   "cell_type": "markdown",
   "id": "e7458b55",
   "metadata": {},
   "source": [
    "# File to Simple LR\n",
    "\n",
    "#### By: Javier Orduz\n",
    "[license-badge]: https://img.shields.io/badge/License-CC-orange\n",
    "[license]: https://creativecommons.org/licenses/by-nc-sa/3.0/deed.en\n",
    "[![CC License][license-badge]][license]\n",
    "[![DS](https://img.shields.io/badge/downloads-DS-green)](https://github.com/Earlham-College/DS_Fall_2022)\n",
    "[![Github](https://img.shields.io/badge/jaorduz-repos-blue)](https://github.com/jaorduz/)\n",
    "[![Github](https://img.shields.io/badge/jaorduc-repos-blue)](https://github.com/jaorduc/)\n",
    "![Follow @jaorduc](https://img.shields.io/twitter/follow/jaorduc?label=follow&logo=twitter&logoColor=lkj&style=plastic)\n"
   ]
  },
  {
   "cell_type": "markdown",
   "id": "ed879c46",
   "metadata": {},
   "source": [
    "<h1>Table of contents</h1>\n",
    "\n",
    "<div class=\"alert  alert-block alert-info\" style=\"margin-top: 20px\">\n",
    "    <ol>\n",
    "        <li><a href=\"#unData\">Data</a></li>\n",
    "         <ol>\n",
    "             <li><a href=\"#reData\">Reading</a></li>\n",
    "             <li><a href=\"#exData\">Exploration</a></li>\n",
    "         </ol>\n",
    "        <li><a href=\"#daExploration\">Data Exploration</a></li>\n",
    "        <li><a href=\"#simRegression\">Simple Regression Model</a></li>\n",
    "    </ol>\n",
    "</div>\n",
    "<br>\n",
    "<hr>"
   ]
  },
  {
   "cell_type": "markdown",
   "id": "6e71fe6c",
   "metadata": {},
   "source": [
    "# Exercise 1\n",
    "Import the modules, packages and Libraries"
   ]
  },
  {
   "cell_type": "code",
   "execution_count": null,
   "id": "ab3bb5ee",
   "metadata": {},
   "outputs": [],
   "source": [
    "import warnings\n",
    "warnings.filterwarnings(\"ignore\")\n",
    "\n",
    "import numpy as np\n",
    "import pandas as pd\n",
    "import io\n",
    "import requests\n",
    "\n",
    "import matplotlib.pyplot as plt\n",
    "import pylab as pl\n",
    "import seaborn as sns\n",
    "%matplotlib inline \n",
    "%config InlineBackend.figure_format = 'retina'\n",
    "plt.style.use('ggplot')\n",
    "plt.rcParams['figure.figsize'] = (10,5)"
   ]
  },
  {
   "cell_type": "markdown",
   "id": "275c871e",
   "metadata": {},
   "source": [
    "# Exercise 2\n",
    "Call the data set\n",
    "``` /DAT/mlb11.csv```"
   ]
  },
  {
   "cell_type": "code",
   "execution_count": null,
   "id": "37e97ac2",
   "metadata": {},
   "outputs": [],
   "source": [
    "f\"your code here\""
   ]
  },
  {
   "cell_type": "markdown",
   "id": "413ed191",
   "metadata": {},
   "source": [
    "# Exercise 3\n",
    "\n",
    "Looking at your plot from the previous exercise, describe the relationship between these two variables. Make sure to discuss the form, direction, and strength of the relationship as well as any unusual observations. "
   ]
  },
  {
   "cell_type": "code",
   "execution_count": null,
   "id": "815bb779",
   "metadata": {},
   "outputs": [],
   "source": [
    "f\"your code here: You can use seaborn\""
   ]
  },
  {
   "cell_type": "markdown",
   "id": "9e0557be",
   "metadata": {},
   "source": [
    "# Exercise 4\n",
    "\n",
    "Recall that the difference between the observed values and the values predicted by the line are called residuals. Note that the data set has 30 observations in total, hence there are 30 residuals.\n",
    "$$ e_i = y_i - \\hat{y}_i$$\n",
    "\n",
    "To visualize the residuals of a linear regression, we can use ```residplot()``` function from ```seaborn```.\n"
   ]
  },
  {
   "cell_type": "code",
   "execution_count": null,
   "id": "37560216",
   "metadata": {},
   "outputs": [],
   "source": [
    "f\"your code here: You can use seaborn\""
   ]
  },
  {
   "cell_type": "markdown",
   "id": "52e17bb9",
   "metadata": {},
   "source": [
    "# Linear model and Statistics\n",
    "\n",
    "\n",
    "In order to determine the best fit line we can use ```statsmodel```, a very useful module for the estimation of many different statistical models, as well as for conducting statistical tests, and statistical data exploration.\n"
   ]
  },
  {
   "cell_type": "code",
   "execution_count": null,
   "id": "f1bd8a44",
   "metadata": {},
   "outputs": [],
   "source": [
    "f\"your code here: df should modified by your data base variable.\"\n",
    "\n",
    "import statsmodels.api as sm\n",
    "\n",
    "formula_string = \"runs ~ at_bats\"\n",
    "\n",
    "model = sm.formula.ols(formula = formula_string, data = df)\n",
    "model_fitted = model.fit()\n",
    "\n",
    "print(model_fitted.summary())"
   ]
  },
  {
   "cell_type": "markdown",
   "id": "457e57ec",
   "metadata": {},
   "source": [
    "# Parameters of the model\n",
    "Find the parameters of the model"
   ]
  },
  {
   "cell_type": "code",
   "execution_count": null,
   "id": "4c1d7cc5",
   "metadata": {},
   "outputs": [],
   "source": [
    "print('Intercept =', model_fitted.params[0])\n",
    "print('Slope =', model_fitted.params[1])"
   ]
  },
  {
   "cell_type": "markdown",
   "id": "c7afea29",
   "metadata": {},
   "source": [
    "# Exercise 5\n",
    "\n",
    "1. Propose the equation for the model"
   ]
  },
  {
   "cell_type": "markdown",
   "id": "92f5ec9a",
   "metadata": {},
   "source": [
    "# Metrics\n",
    "\n",
    "he Multiple R-squared, or more simply, $R^2$. The $R^2$ value represents the **proportion of variability** in the **response** variable that is explained by the **explanatory** (independent or predictor) **variable**."
   ]
  },
  {
   "cell_type": "code",
   "execution_count": null,
   "id": "2f577e82",
   "metadata": {},
   "outputs": [],
   "source": [
    "f\"your code here: You can use rsquared\""
   ]
  },
  {
   "cell_type": "code",
   "execution_count": null,
   "id": "56541b68",
   "metadata": {},
   "outputs": [],
   "source": [
    "print(f\"For this model, {round(model_fitted.rsquared*100,1)}%\\\n",
    "of the variability in runs is explained by at-bats.\")"
   ]
  },
  {
   "cell_type": "markdown",
   "id": "ccca3f58",
   "metadata": {},
   "source": [
    "## Versions"
   ]
  },
  {
   "cell_type": "code",
   "execution_count": null,
   "id": "8d15ab75",
   "metadata": {},
   "outputs": [],
   "source": [
    "from platform import python_version\n",
    "print(\"python version: \", python_version())\n",
    "!pip3 freeze | grep qiskit"
   ]
  },
  {
   "cell_type": "markdown",
   "id": "e3f990b7",
   "metadata": {},
   "source": [
    "# References"
   ]
  },
  {
   "cell_type": "markdown",
   "id": "e3e9271c",
   "metadata": {},
   "source": [
    "[0] data https://tinyurl.com/2m3vr2xp\n",
    "\n",
    "[1] numpy https://numpy.org/\n",
    "\n",
    "[2] scipy https://docs.scipy.org/\n",
    "\n",
    "[3] matplotlib https://matplotlib.org/\n",
    "\n",
    "[4] matplotlib.cm https://matplotlib.org/stable/api/cm_api.html\n",
    "\n",
    "[5] matplotlib.pyplot https://matplotlib.org/stable/api/pyplot_summary.html\n",
    "\n",
    "[6] pandas https://pandas.pydata.org/docs/\n",
    "\n",
    "[7] seaborn https://seaborn.pydata.org/\n"
   ]
  }
 ],
 "metadata": {
  "kernelspec": {
   "display_name": "Python 3",
   "language": "python",
   "name": "python3"
  },
  "language_info": {
   "codemirror_mode": {
    "name": "ipython",
    "version": 3
   },
   "file_extension": ".py",
   "mimetype": "text/x-python",
   "name": "python",
   "nbconvert_exporter": "python",
   "pygments_lexer": "ipython3",
   "version": "3.7.4"
  },
  "vscode": {
   "interpreter": {
    "hash": "31f2aee4e71d21fbe5cf8b01ff0e069b9275f58929596ceb00d14d90e3e16cd6"
   }
  }
 },
 "nbformat": 4,
 "nbformat_minor": 5
}
